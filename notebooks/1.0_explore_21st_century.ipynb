{
 "cells": [
  {
   "cell_type": "markdown",
   "metadata": {},
   "source": [
    "# Exploring 21st Century Data\n",
    "\n",
    "The purpose of this notebook is to identify what data is available from a set of data from 21st Century Equipment. While it is different than the data we have in Anvil this exploration will be used to identify ways we can measure/predict customer buying cycles and potentially customer segments.\n",
    "\n",
    "## Data Overview\n",
    "\n",
    "- **Unique Product Groups**: 45\n",
    "- **Total Sales**: $3,984,730,575.96\n",
    "- **Total units sold**: 79,218\n",
    "- **Earliest sale**: 2011-01-03\n",
    "\n",
    "It's highly likely that quite a few of these transactions are mislabeled from a Product Group perspective. To address this we may need to do make/model matching from our database to verify or update product grouping. For discovery work we can try ignoring things less than $1000 as these are likely not something that we would want to generate leads for. \n",
    "\n",
    "From a customer perspective we ignore the following:\n",
    "- `CONVERSION CUSTOMER` : These are customers from a previous dealerships and didn't have an account associated with 21st century. This will be a common thing we will want to clean from dealerships in order to do our analysis.\n",
    "- `MV EQUIP CONVERSION CUST` : Same as above\n",
    "- `21ST CENTURY LEASING LLC` : Seems to have sold to a subsidiary and will have to be something we look at. Want to ignore for evaluating customer buying cycles\n",
    "- `Big Iron`: Equipment sent to auction. While useful in some contexts, not an actual customer\n"
   ]
  },
  {
   "cell_type": "code",
   "execution_count": 32,
   "metadata": {},
   "outputs": [],
   "source": [
    "import matplotlib.pyplot as plt\n",
    "import numpy as np\n",
    "import pandas as pd\n",
    "import seaborn as sns\n",
    "from matplotlib import ticker"
   ]
  },
  {
   "cell_type": "markdown",
   "metadata": {},
   "source": [
    "## Cleaning Data\n",
    "\n",
    "Making dates into date objects and cleaning up the numbers. All the money fields have dollar signs/commas and the percentage fields have the percentage signs. These are cleaned up to be floating values and the percentages given in absolute terms."
   ]
  },
  {
   "cell_type": "code",
   "execution_count": null,
   "metadata": {},
   "outputs": [],
   "source": [
    "df = pd.read_csv(\"../data/21st-century-data.csv\")\n",
    "# split Account into account name and account number by splitting on \"--\"\n",
    "df[\"Customer Invoice Date\"] = pd.to_datetime(df[\"Customer Invoice Date\"])\n",
    "df[\"Inventory Date  Date\"] = pd.to_datetime(df[\"Inventory Date  Date\"])\n",
    "df[\"Inventory Year\"] = df[\"Inventory Date  Date\"].dt.year\n",
    "df[\"Inventory Month\"] = df[\"Inventory Date  Date\"].dt.month\n",
    "df[\"Days In Inventory \"] = df[\"Days In Inventory \"].astype(int)\n",
    "df[\"Machine Age\"] = df[\"Machine Age\"].astype(int)\n",
    "df[\"Engine Hours\"] = df[\"Engine Hours\"].astype(int)\n",
    "df[\"Month Number \"] = df[\"Month Number \"].astype(int)\n",
    "df[\"Buying Year \"] = df[\"Buying Year \"].astype(int)\n",
    "df[\"Invoice Amount\"] = df[\"Invoice Amount\"].str.replace(\"$\", \"\").str.replace(\",\", \"\").astype(float)\n",
    "df[\"Customer Invoice Amount\"] = df[\"Customer Invoice Amount\"].str.replace(\"$\", \"\").str.replace(\",\", \"\").astype(float)\n",
    "df[\"MDP (Approx)\"] = df[\"MDP (Approx)\"].str.replace(\"$\", \"\").str.replace(\",\", \"\").astype(float)\n",
    "df[\"Equipment Cost\"] = df[\"Equipment Cost\"].str.replace(\"$\", \"\").str.replace(\",\", \"\").astype(float)\n",
    "df[\"Net Trade Amount\"] = df[\"Net Trade Amount\"].str.replace(\"$\", \"\").str.replace(\",\", \"\").astype(float)\n",
    "df[\"Invoice as a Percent of MDP\"] = df[\"Invoice as a Percent of MDP\"].str.replace(\"%\", \"\").replace(\"#DIV/0!\", \"0\").apply(lambda x: float(x) / 100)\n",
    "# Margin Dollars has a $ sign and uses ( ) to denote negative values\n",
    "df[\"Margin Dollars \"] = df[\"Margin Dollars \"].str.replace(\"$\", \"\").str.replace(\"(\", \"-\").str.replace(\")\", \"\").str.replace(\",\", \"\").astype(float)\n",
    "df[\"Change for Net Trade to Equipment Cost \"] = df[\"Change for Net Trade to Equipment Cost \"].str.replace(\"$\", \"\").str.replace(\"(\", \"-\").str.replace(\")\", \"\").str.replace(\",\", \"\").astype(float)\n",
    "df[\"Margin Percent \"] = df[\"Margin Percent \"].str.replace(\"%\", \"\").replace(\"#DIV/0!\", \"0\").apply(lambda x: float(x) / 100)\n",
    "df[\"account_name\"] = df[\"Account\"].apply(lambda x: x.split(\"--\")[0]).str.strip()\n",
    "df[\"account_number\"] = df[\"Account\"].apply(lambda x: x.split(\"--\")[1]).str.strip()\n",
    "# Update column names with trailing spaces to remove them\n",
    "df = df.rename(columns={col: col.strip() for col in df.columns})\n",
    "df.head()"
   ]
  },
  {
   "cell_type": "code",
   "execution_count": 83,
   "metadata": {},
   "outputs": [],
   "source": [
    "df.to_csv(\"../data/clean-21st-century-data.csv\", index=False)"
   ]
  },
  {
   "cell_type": "code",
   "execution_count": null,
   "metadata": {},
   "outputs": [],
   "source": [
    "print(df.columns)"
   ]
  },
  {
   "cell_type": "code",
   "execution_count": null,
   "metadata": {},
   "outputs": [],
   "source": [
    "num_product_groups = len(df[\"Product Group\"].unique())\n",
    "print(f\"There are {num_product_groups} unique product groups\")"
   ]
  },
  {
   "cell_type": "code",
   "execution_count": null,
   "metadata": {},
   "outputs": [],
   "source": [
    "total_sales = df[\"Invoice Amount\"].sum()\n",
    "total_units = len(df)\n",
    "print(f\"Total sales: ${total_sales:,.2f}\")\n",
    "print(f\"Total units sold: {total_units:,}\")"
   ]
  },
  {
   "cell_type": "code",
   "execution_count": null,
   "metadata": {},
   "outputs": [],
   "source": [
    "earliest_sale = df[\"Customer Invoice Date\"].min()\n",
    "print(f\"Earliest sale: {earliest_sale}\")"
   ]
  },
  {
   "cell_type": "code",
   "execution_count": null,
   "metadata": {},
   "outputs": [],
   "source": [
    "latest_sale = df[\"Customer Invoice Date\"].max()\n",
    "print(f\"Latest sale: {latest_sale}\")"
   ]
  },
  {
   "cell_type": "code",
   "execution_count": null,
   "metadata": {},
   "outputs": [],
   "source": [
    "df.describe()"
   ]
  },
  {
   "cell_type": "code",
   "execution_count": null,
   "metadata": {},
   "outputs": [],
   "source": [
    "df.dropna(subset=[\"Product Group\"]).loc[df.dropna(subset=[\"Product Group\"])[\"Product Group\"].str.contains(\"ATTACHMENT\")].describe()"
   ]
  },
  {
   "cell_type": "code",
   "execution_count": null,
   "metadata": {},
   "outputs": [],
   "source": [
    "df[\"Product Group\"].value_counts().nlargest(15).sort_values().plot(kind=\"barh\", figsize=(10, 6))\n",
    "plt.title(\"Top 15 Product Groups by Count\")"
   ]
  },
  {
   "cell_type": "code",
   "execution_count": null,
   "metadata": {},
   "outputs": [],
   "source": [
    "def millions(x, pos):\n",
    "    if x >= 1e9:\n",
    "        return f\"${x * 1e-9:,.3f}B\"\n",
    "    return f\"${x * 1e-6:,.0f}M\"\n",
    "\n",
    "invoice_amount_by_product_group = df[[\"Product Group\", \"Invoice Amount\"]].groupby(\"Product Group\").sum().sort_values(by=\"Invoice Amount\", ascending=False).head(15).reset_index()\n",
    "invoice_amount_by_product_group.head()\n",
    "fig = plt.figure(figsize=(10, 6))\n",
    "ax = plt.gca()\n",
    "sns.barplot(x=\"Invoice Amount\", y=\"Product Group\", data=invoice_amount_by_product_group, ax=ax)\n",
    "# correct yticks to be in millions of $\n",
    "ax.xaxis.set_major_formatter(ticker.FuncFormatter(millions))\n",
    "plt.title(\"Top 15 Total Invoice Amount by Product Group\")\n",
    "plt.show()"
   ]
  },
  {
   "cell_type": "code",
   "execution_count": null,
   "metadata": {},
   "outputs": [],
   "source": [
    "df[[\"Product Group\", \"Invoice Amount\"]].groupby(\"Product Group\").sum().sort_values(by=\"Invoice Amount\", ascending=False).head(15).iloc[::-1].plot(kind=\"barh\", figsize=(10, 6), legend=False )\n",
    "plt.title(\"Top 15 Product Groups by Invoice Amount\")"
   ]
  },
  {
   "cell_type": "code",
   "execution_count": null,
   "metadata": {},
   "outputs": [],
   "source": [
    "df[[\"Product Group\", \"Invoice Amount\"]].groupby(\"Product Group\").mean().sort_values(by=\"Invoice Amount\", ascending=False).head(15).iloc[::-1].plot(kind=\"barh\", figsize=(10, 6), legend=False )\n",
    "plt.title(\"Top 15 Product Groups by Average Invoice Amount\")"
   ]
  },
  {
   "cell_type": "code",
   "execution_count": null,
   "metadata": {},
   "outputs": [],
   "source": [
    "df[[\"Product Group\", \"Invoice Amount\"]].groupby(\"Product Group\").mean().sort_values(by=\"Invoice Amount\", ascending=True).head(15).iloc[::-1].plot(kind=\"barh\", figsize=(10, 6), legend=False )\n",
    "plt.title(\"Bottom 15 Product Groups by Average Invoice Amount\")"
   ]
  },
  {
   "cell_type": "code",
   "execution_count": null,
   "metadata": {},
   "outputs": [],
   "source": [
    "# create a 2x1 grid of plots\n",
    "fig, ax = plt.subplots(2, 1, figsize=(10, 12))\n",
    "# plot the top 15 product groups by count\n",
    "df[[\"Product Group\", \"Invoice Amount\"]].groupby(\"Product Group\").count().sort_values(by=\"Invoice Amount\", ascending=False).head(15).iloc[::-1].plot(kind=\"barh\", ax=ax[0], legend=False)\n",
    "# plot the top 15 product groups by count where the invoice amount is greater than 1000\n",
    "df[df[\"Invoice Amount\"] > 1000][[\"Product Group\", \"Invoice Amount\"]].groupby(\"Product Group\").count().sort_values(by=\"Invoice Amount\", ascending=False).head(15).iloc[::-1].plot(kind=\"barh\", ax=ax[1], legend=False)\n",
    "ax[0].set_title(\"Top 15 Product Groups by Total Units Sold\")\n",
    "ax[1].set_title(\"Top 15 Product Groups by Total Units Sold where Invoice Amount > $1000\")"
   ]
  },
  {
   "cell_type": "code",
   "execution_count": null,
   "metadata": {},
   "outputs": [],
   "source": [
    "attachment_product_groups = df.dropna(subset=[\"Product Group\"]).loc[df.dropna(subset=[\"Product Group\"])[\"Product Group\"].str.contains(\"ATTACHMENT\")][\"Product Group\"].unique().tolist()\n",
    "attachment_df = df.loc[df[\"Product Group\"].isin(attachment_product_groups)]\n",
    "sns.violinplot(x=\"Product Group\", y=\"Invoice Amount\", data=attachment_df)\n",
    "plt.xticks(rotation=90)"
   ]
  },
  {
   "cell_type": "code",
   "execution_count": null,
   "metadata": {},
   "outputs": [],
   "source": [
    "df.loc[(df[\"Product Group\"] == \"TURF ATTACHMENTS\") & (df[\"Invoice Amount\"] > 100000)]"
   ]
  },
  {
   "cell_type": "code",
   "execution_count": null,
   "metadata": {},
   "outputs": [],
   "source": [
    "df.loc[(df[\"Product Group\"] == \"TRACTOR ATTACHMENTS\") & (df[\"Invoice Amount\"] > 100000)]"
   ]
  },
  {
   "cell_type": "code",
   "execution_count": null,
   "metadata": {},
   "outputs": [],
   "source": [
    "attachment_grouped_df = attachment_df[[\"Product Group\", \"Invoice Amount\"]].groupby(\"Product Group\").agg([\"count\", \"sum\", \"mean\", \"median\", \"std\"]).reset_index()\n",
    "attachment_grouped_df.columns = [np.arange(0,attachment_grouped_df.shape[1])]\n",
    "attachment_grouped_df.columns = [\"Product Group\", \"Count\", \"Sum\", \"Mean\", \"Median\", \"Std\"]\n",
    "attachment_grouped_df.head(10)"
   ]
  },
  {
   "cell_type": "code",
   "execution_count": 74,
   "metadata": {},
   "outputs": [],
   "source": [
    "# find all of the units that are more than 2 standard deviations above the mean\n",
    "attachment_df = attachment_df.merge(attachment_grouped_df, on=\"Product Group\")"
   ]
  },
  {
   "cell_type": "code",
   "execution_count": null,
   "metadata": {},
   "outputs": [],
   "source": [
    "attachment_df[\"z_score\"] = (attachment_df[\"Invoice Amount\"] - attachment_df[\"Mean\"]) / attachment_df[\"Std\"]\n",
    "attachment_df.loc[attachment_df[\"z_score\"] > 2]"
   ]
  },
  {
   "cell_type": "code",
   "execution_count": null,
   "metadata": {},
   "outputs": [],
   "source": [
    "sns.violinplot(x=\"Product Group\", y=\"Invoice Amount\", data=attachment_df.loc[attachment_df[\"z_score\"] < 2])\n",
    "plt.xticks(rotation=90)"
   ]
  },
  {
   "cell_type": "code",
   "execution_count": null,
   "metadata": {},
   "outputs": [],
   "source": [
    "df[[\"account_name\", \"Customer Invoice Amount\"]].groupby(\"account_name\").mean().sort_values(by=\"Customer Invoice Amount\", ascending=False)"
   ]
  },
  {
   "cell_type": "code",
   "execution_count": null,
   "metadata": {},
   "outputs": [],
   "source": [
    "# get total sales for the top 1% of accounts ignoring Conversion Customers\n",
    "bad_account_names = [\"CONVERSION CUSTOMER\", \"MV EQUIP CONVERSION CUST\", \"21ST CENTURY LEASING LLC\", \"BIG IRON\"]\n",
    "top_1_percent_accounts = df.loc[~df[\"account_name\"].isin(bad_account_names)][[\"account_name\", \"Invoice Amount\"]].groupby(\"account_name\").sum().sort_values(by=\"Invoice Amount\", ascending=False).head(int(len(df[\"account_name\"].unique()) * 0.01))\n",
    "top_1_percent_accounts.head()"
   ]
  },
  {
   "cell_type": "code",
   "execution_count": null,
   "metadata": {},
   "outputs": [],
   "source": [
    "top_1_percent_accounts.sum()"
   ]
  },
  {
   "cell_type": "code",
   "execution_count": null,
   "metadata": {},
   "outputs": [],
   "source": [
    "top_1_percent_accounts.sum() / 3984370576"
   ]
  },
  {
   "cell_type": "markdown",
   "metadata": {},
   "source": [
    "Most of the highest grossing accounts are:\n",
    "1. A bucket of customers who aren't matched to the parent company in an acquisition\n",
    "2. An agriculture service company (e.g. for harvesting)\n",
    "3. A leasing arm of the company\n",
    "4. Large corporations or conglomorates"
   ]
  },
  {
   "cell_type": "code",
   "execution_count": null,
   "metadata": {},
   "outputs": [],
   "source": [
    "df[[\"account_name\", \"Invoice Amount\"]].groupby(\"account_name\").sum().sort_values(by=\"Invoice Amount\", ascending=False).head(15).iloc[::-1].plot(kind=\"barh\", figsize=(10, 6), legend=False )"
   ]
  },
  {
   "cell_type": "code",
   "execution_count": null,
   "metadata": {},
   "outputs": [],
   "source": [
    "invoice_amount_by_customer = df[[\"account_name\", \"Invoice Amount\"]].groupby(\"account_name\").sum().sort_values(by=\"Invoice Amount\", ascending=False).head(15).reset_index()\n",
    "fig = plt.figure(figsize=(10, 6))\n",
    "ax = plt.gca()\n",
    "sns.barplot(x=\"Invoice Amount\", y=\"account_name\", data=invoice_amount_by_customer, ax=ax)\n",
    "# correct yticks to be in millions of $\n",
    "ax.xaxis.set_major_formatter(ticker.FuncFormatter(millions))\n",
    "plt.title(\"Top 15 Total Invoice Amount by Customer\")\n",
    "plt.show()"
   ]
  },
  {
   "cell_type": "code",
   "execution_count": null,
   "metadata": {},
   "outputs": [],
   "source": [
    "df[[\"account_name\", \"Invoice Amount\"]].groupby(\"account_name\").count().sort_values(by=\"Invoice Amount\", ascending=False).head(15).iloc[::-1].plot(kind=\"barh\", figsize=(10, 6), legend=False )"
   ]
  },
  {
   "cell_type": "code",
   "execution_count": null,
   "metadata": {},
   "outputs": [],
   "source": [
    "df[\"New/Used\"].value_counts().plot(kind=\"bar\")"
   ]
  },
  {
   "cell_type": "code",
   "execution_count": null,
   "metadata": {},
   "outputs": [],
   "source": [
    "df[\"New/Used\"].describe()"
   ]
  },
  {
   "cell_type": "code",
   "execution_count": null,
   "metadata": {},
   "outputs": [],
   "source": [
    "fig = plt.figure(figsize=(10, 6))\n",
    "ax = plt.gca()\n",
    "sns.barplot(x=\"New/Used\", y=\"Invoice Amount\", data=df.groupby(\"New/Used\")[\"Invoice Amount\"].sum().reset_index(), ax=ax)\n",
    "# correct yticks to be in millions of $\n",
    "ax.yaxis.set_major_formatter(ticker.FuncFormatter(millions))\n",
    "plt.title(\"Total Invoice Amount by New/Used\")\n",
    "plt.show()"
   ]
  },
  {
   "cell_type": "code",
   "execution_count": null,
   "metadata": {},
   "outputs": [],
   "source": [
    "df.groupby(\"New/Used\")[\"Invoice Amount\"].mean().plot(kind=\"bar\")"
   ]
  },
  {
   "cell_type": "code",
   "execution_count": null,
   "metadata": {},
   "outputs": [],
   "source": [
    "sns.barplot(x=\"Buying Year\", y=\"Invoice Amount\", data=df)"
   ]
  },
  {
   "cell_type": "code",
   "execution_count": null,
   "metadata": {},
   "outputs": [],
   "source": [
    "sns.barplot(x=\"Buying Year\", y=\"Invoice Amount\", hue=\"New/Used\", data=df)\n",
    "plt.title(\"Average Invoice Amount by Buying Year\")"
   ]
  },
  {
   "cell_type": "markdown",
   "metadata": {},
   "source": [
    "## Purchase Frequency\n",
    "\n",
    "Look at when customers purchase equipment by year/month and how many purchases are repeat"
   ]
  },
  {
   "cell_type": "code",
   "execution_count": null,
   "metadata": {},
   "outputs": [],
   "source": [
    "frequency_year_df = df.copy()\n",
    "frequency_year_df = frequency_year_df.groupby([\"Product Group\", \"Buying Year\"]).agg({\"Invoice Amount\": \"sum\", \"account_name\": \"count\"}).reset_index()\n",
    "frequency_year_df.columns = [\"Product Group\", \"Buying Year\", \"Total Invoices\", \"Total Sales\"]\n",
    "frequency_year_df.head()"
   ]
  },
  {
   "cell_type": "code",
   "execution_count": null,
   "metadata": {},
   "outputs": [],
   "source": [
    "sns.barplot(x=\"Buying Year\", y=\"Total Invoices\", data=frequency_year_df)"
   ]
  },
  {
   "cell_type": "code",
   "execution_count": 23,
   "metadata": {},
   "outputs": [],
   "source": [
    "tractor_product_groups = frequency_year_df.dropna(subset=[\"Product Group\"]).loc[frequency_year_df.dropna(subset=[\"Product Group\"])[\"Product Group\"].str.contains(\"TRACTOR\")][\"Product Group\"].unique().tolist()"
   ]
  },
  {
   "cell_type": "code",
   "execution_count": null,
   "metadata": {},
   "outputs": [],
   "source": [
    "def millions(x, pos):\n",
    "    return f\"${x * 1e-6:.0f}M\"\n",
    "\n",
    "\n",
    "fig = plt.figure(figsize=(10, 6))\n",
    "ax = plt.gca()\n",
    "sns.lineplot(x=\"Buying Year\", y=\"Total Invoices\", hue=\"Product Group\", data=frequency_year_df.loc[frequency_year_df[\"Product Group\"].isin(tractor_product_groups)])\n",
    "# correct yticks to be in millions of $\n",
    "ax.yaxis.set_major_formatter(ticker.FuncFormatter(millions))\n",
    "plt.title(\"Total Invoice Amount by Product Group and Buying Year - Tractors\")\n",
    "ax.legend(loc=\"center left\", bbox_to_anchor=(1, 0.5))\n",
    "plt.show()"
   ]
  },
  {
   "cell_type": "code",
   "execution_count": null,
   "metadata": {},
   "outputs": [],
   "source": [
    "fig = plt.figure(figsize=(10, 6))\n",
    "ax = plt.gca()\n",
    "sns.lineplot(x=\"Buying Year\", y=\"Total Sales\", hue=\"Product Group\", data=frequency_year_df.loc[frequency_year_df[\"Product Group\"].isin(tractor_product_groups)])\n",
    "plt.title(\"Total Sales by Product Group and Buying Year - Tractors\")\n",
    "ax.legend(loc=\"center left\", bbox_to_anchor=(1, 0.5))\n",
    "plt.show()"
   ]
  },
  {
   "cell_type": "code",
   "execution_count": null,
   "metadata": {},
   "outputs": [],
   "source": [
    "fig = plt.figure(figsize=(10, 6))\n",
    "ax = plt.gca()\n",
    "sns.lineplot(x=\"Buying Year\", y=\"Total Invoices\", hue=\"Product Group\", data=frequency_year_df.loc[frequency_year_df[\"Product Group\"] == \"COMBINES\"])\n",
    "plt.title(\"Total Invoice Amount by Product Group and Buying Year - Combines\")\n",
    "ax.yaxis.set_major_formatter(ticker.FuncFormatter(millions))\n",
    "plt.show()"
   ]
  },
  {
   "cell_type": "code",
   "execution_count": null,
   "metadata": {},
   "outputs": [],
   "source": [
    "fig = plt.figure(figsize=(10, 6))\n",
    "ax = plt.gca()\n",
    "sns.lineplot(x=\"Buying Year\", y=\"Total Sales\", hue=\"Product Group\", data=frequency_year_df.loc[frequency_year_df[\"Product Group\"] == \"COMBINES\"])\n",
    "plt.title(\"Total Sales by Product Group and Buying Year - Combines\")\n",
    "plt.show()"
   ]
  },
  {
   "cell_type": "markdown",
   "metadata": {},
   "source": [
    "## Create Buying Cycle Dataset\n",
    "\n",
    "This dataset will look at customers buying larger pieces of equipment (>$1,000 and not an attachment). Multiple purchases will be required and we clean up data like machine age and engine hours (if applicable). Also remove the non-customer accounts."
   ]
  },
  {
   "cell_type": "code",
   "execution_count": null,
   "metadata": {},
   "outputs": [],
   "source": [
    "bad_account_names = [\"CONVERSION CUSTOMER\", \"MV EQUIP CONVERSION CUST\", \"21ST CENTURY LEASING LLC\", \"BIG IRON\"]\n",
    "cycle_df = df.copy()\n",
    "cycle_df = cycle_df.loc[~cycle_df[\"account_name\"].isin(bad_account_names)]\n",
    "cycle_df = cycle_df.loc[cycle_df[\"Customer Invoice Amount\"] > 1000]\n",
    "cycle_df = cycle_df.loc[~cycle_df[\"Product Group\"].isna()]\n",
    "cycle_df = cycle_df.loc[~cycle_df[\"Product Group\"].str.contains(\"ATTACHMENT\")]\n",
    "cycle_df[\"combined_product_group\"] = cycle_df[\"Product Group\"].apply(lambda x: \"LARGE TRACTOR\" if x in [\"TRACTOR-ROW CROP\", \"TRACTOR-4WD\", \"TRACTOR-TRACK\"] else x)\n",
    "# Now only include records where an account_name appears at least twice for each combined_product_group\n",
    "cycle_df = cycle_df.groupby([\"account_name\", \"combined_product_group\"]).filter(lambda x: len(x) > 1)\n",
    "# calculate year from previous purchase for same account name and product group\n",
    "cycle_df.sort_values(by=[\"account_name\", \"combined_product_group\", \"Customer Invoice Date\"], ascending = [True, True, True],inplace=True)\n",
    "cycle_df[\"previous_purchase_year\"] = cycle_df.groupby([\"account_name\", \"combined_product_group\"])[\"Buying Year\"].shift(1)\n",
    "cycle_df[\"year_from_previous_purchase\"] = cycle_df[\"Buying Year\"] - cycle_df[\"previous_purchase_year\"]\n",
    "cycle_df = cycle_df[[\"account_name\", \"account_number\", \"Stock Number\", \"Machine Serial Number\", \"Engine Hours\", \"Unit Hours 2\",  \"combined_product_group\", \"Make\", \"Model\", \"New/Used\", \"Model Year\", \"Machine Age\", \"Invoice Amount\", \"Customer Invoice Date\", \"Month Number\", \"Buying Year\", \"year_from_previous_purchase\"]]\n",
    "cycle_df.head()"
   ]
  },
  {
   "cell_type": "code",
   "execution_count": 13,
   "metadata": {},
   "outputs": [],
   "source": [
    "cycle_df.to_csv(\"../data/cycle-21st-century-data.csv\", index=False)"
   ]
  },
  {
   "cell_type": "code",
   "execution_count": null,
   "metadata": {},
   "outputs": [],
   "source": [
    "cycle_df[\"combined_product_group\"].value_counts()"
   ]
  },
  {
   "cell_type": "code",
   "execution_count": null,
   "metadata": {},
   "outputs": [],
   "source": [
    "cycle_df.groupby(\"combined_product_group\")[\"year_from_previous_purchase\"].mean().sort_values(ascending=False)"
   ]
  },
  {
   "cell_type": "code",
   "execution_count": null,
   "metadata": {},
   "outputs": [],
   "source": [
    "cycle_df.account_name.nunique()"
   ]
  }
 ],
 "metadata": {
  "kernelspec": {
   "display_name": "pocs",
   "language": "python",
   "name": "python3"
  },
  "language_info": {
   "codemirror_mode": {
    "name": "ipython",
    "version": 3
   },
   "file_extension": ".py",
   "mimetype": "text/x-python",
   "name": "python",
   "nbconvert_exporter": "python",
   "pygments_lexer": "ipython3",
   "version": "3.9.15"
  }
 },
 "nbformat": 4,
 "nbformat_minor": 2
}
