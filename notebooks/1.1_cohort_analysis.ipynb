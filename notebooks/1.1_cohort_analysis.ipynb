{
 "cells": [
  {
   "cell_type": "markdown",
   "metadata": {},
   "source": [
    "# Cohort Analysis\n",
    "\n",
    "Looking at first customer purchase across different categories, identify different behaviors between different cohorts. Purchase frequency, purchase amount/age of equipment, etc."
   ]
  },
  {
   "cell_type": "code",
   "execution_count": 1,
   "metadata": {},
   "outputs": [],
   "source": [
    "import matplotlib.pyplot as plt\n",
    "import pandas as pd\n",
    "import seaborn as sns"
   ]
  },
  {
   "cell_type": "code",
   "execution_count": null,
   "metadata": {},
   "outputs": [],
   "source": [
    "df = pd.read_csv(\"../data/cycle-21st-century-data.csv\")\n",
    "df[\"Customer Invoice Date\"] = pd.to_datetime(df[\"Customer Invoice Date\"])\n",
    "df.head()"
   ]
  },
  {
   "cell_type": "code",
   "execution_count": null,
   "metadata": {},
   "outputs": [],
   "source": [
    "df[\"Customer Invoice Date\"].value_counts().sort_index().plot()"
   ]
  },
  {
   "cell_type": "code",
   "execution_count": null,
   "metadata": {},
   "outputs": [],
   "source": [
    "# Create a first_purchase_date column by combining Buying Year and Buying Month\n",
    "df[\"purchase_date\"] = pd.to_datetime(df[\"Buying Year\"].astype(str) + \"-\" + df[\"Month Number\"].astype(str))\n",
    "df[\"first_purchase_date\"] = df.groupby(\"account_number\")[\"purchase_date\"].transform(\"min\")\n",
    "\n",
    "# Assign customers to cohorts based on the year and quarter of their first purchase\n",
    "df[\"cohort_year\"] = df[\"first_purchase_date\"].dt.year\n",
    "df[\"cohort_quarter\"] = df[\"first_purchase_date\"].dt.to_period(\"Q\")\n",
    "\n",
    "# Create a cohort_id column to identify customers' first purchase cohort\n",
    "df[\"cohort_id\"] = df[\"cohort_year\"].astype(str) + \"_Q\" + df[\"first_purchase_date\"].dt.quarter.astype(str)\n",
    "\n",
    "# Deliverable: A table with customer IDs, cohort assignment, and their corresponding first purchase date\n",
    "cohort_table = df[[\"account_number\", \"cohort_id\", \"first_purchase_date\"]].drop_duplicates()\n",
    "\n",
    "print(cohort_table.head())"
   ]
  },
  {
   "cell_type": "code",
   "execution_count": null,
   "metadata": {},
   "outputs": [],
   "source": [
    "df.head()"
   ]
  },
  {
   "cell_type": "markdown",
   "metadata": {},
   "source": [
    "### Looking at Tractor Cohorts\n",
    "\n",
    "Different temporal cohorts that purchase Large Tractors"
   ]
  },
  {
   "cell_type": "code",
   "execution_count": null,
   "metadata": {},
   "outputs": [],
   "source": [
    "large_tractor_df = df[df[\"combined_product_group\"] == \"LARGE TRACTOR\"].copy()\n",
    "# must have at least 2 purchases to be considered a repeat customer\n",
    "large_tractor_df = large_tractor_df[large_tractor_df[\"account_number\"].isin(large_tractor_df[\"account_number\"].value_counts()[large_tractor_df[\"account_number\"].value_counts() > 1].index)]\n",
    "large_tractor_df.sort_values(by=[\"account_name\", \"combined_product_group\", \"Customer Invoice Date\"], ascending = [True, True, True],inplace=True)\n",
    "large_tractor_df[\"previous_purchase_year\"] = large_tractor_df.groupby([\"account_name\", \"combined_product_group\"])[\"Buying Year\"].shift(1)\n",
    "large_tractor_df[\"year_from_previous_purchase\"] = large_tractor_df[\"Buying Year\"] - large_tractor_df[\"previous_purchase_year\"]\n",
    "large_tractor_df.head()"
   ]
  },
  {
   "cell_type": "code",
   "execution_count": null,
   "metadata": {},
   "outputs": [],
   "source": [
    "sns.histplot(large_tractor_df[\"year_from_previous_purchase\"], kde=True)"
   ]
  },
  {
   "cell_type": "code",
   "execution_count": null,
   "metadata": {},
   "outputs": [],
   "source": [
    "large_tractor_df.loc[(large_tractor_df.year_from_previous_purchase == 0)].groupby(\"account_name\").count().sort_values(by=\"account_number\", ascending=False).head(15)"
   ]
  },
  {
   "cell_type": "code",
   "execution_count": null,
   "metadata": {},
   "outputs": [],
   "source": [
    "# count distinct account_number in each cohort\n",
    "cohort_counts = large_tractor_df.groupby([\"cohort_year\"])[\"account_number\"].nunique().reset_index()\n",
    "cohort_counts.head()"
   ]
  },
  {
   "cell_type": "code",
   "execution_count": null,
   "metadata": {},
   "outputs": [],
   "source": [
    "large_tractor_df[\"Buying Year\"].value_counts().sort_index().plot(kind=\"bar\", title=\"Large Tractor Sales by Year\")"
   ]
  },
  {
   "cell_type": "code",
   "execution_count": null,
   "metadata": {},
   "outputs": [],
   "source": [
    "# group by cohort year and calculate the average year_from_previous_purchase\n",
    "average_year_from_previous_purchase = large_tractor_df.loc[~large_tractor_df.year_from_previous_purchase.isna()].groupby([\"cohort_year\"])[\"year_from_previous_purchase\"].mean().reset_index()\n",
    "sns.lineplot(data=average_year_from_previous_purchase, x=\"cohort_year\", y=\"year_from_previous_purchase\")\n",
    "plt.xlabel(\"Cohort Year\")\n",
    "plt.ylabel(\"Average Time Between Purchases (Years)\")\n",
    "plt.title(\"Average Time Between Purchases for Large Tractor Cohorts\")"
   ]
  },
  {
   "cell_type": "markdown",
   "metadata": {},
   "source": [
    "Within the year cohorts, is there a difference between customers who bought only Used"
   ]
  },
  {
   "cell_type": "code",
   "execution_count": null,
   "metadata": {},
   "outputs": [],
   "source": [
    "# count distinct account_number in each cohort\n",
    "cohort_counts = large_tractor_df.loc[large_tractor_df[\"New/Used\"] == \"Used\"].groupby([\"cohort_year\"])[\"account_number\"].nunique().reset_index()\n",
    "cohort_counts.head()"
   ]
  },
  {
   "cell_type": "code",
   "execution_count": null,
   "metadata": {},
   "outputs": [],
   "source": [
    "# group by cohort year and calculate the average year_from_previous_purchase\n",
    "average_year_from_previous_purchase = large_tractor_df.loc[(~large_tractor_df.year_from_previous_purchase.isna()) & (large_tractor_df[\"New/Used\"] == \"Used\")].groupby([\"cohort_year\"])[\"year_from_previous_purchase\"].mean().reset_index()\n",
    "sns.lineplot(data=average_year_from_previous_purchase, x=\"cohort_year\", y=\"year_from_previous_purchase\")\n",
    "plt.xlabel(\"Cohort Year\")\n",
    "plt.ylabel(\"Average Time Between Purchases (Years)\")\n",
    "plt.title(\"Average Time Between Purchases for Large Tractor Cohorts - Used\")"
   ]
  },
  {
   "cell_type": "code",
   "execution_count": null,
   "metadata": {},
   "outputs": [],
   "source": [
    "# group by cohort year and calculate the average year_from_previous_purchase\n",
    "average_year_from_previous_purchase = large_tractor_df.loc[(~large_tractor_df.year_from_previous_purchase.isna()) & (large_tractor_df[\"New/Used\"] == \"Used\")].groupby([\"cohort_year\"])[\"Machine Age\"].mean().reset_index()\n",
    "sns.lineplot(data=average_year_from_previous_purchase, x=\"cohort_year\", y=\"Machine Age\")\n",
    "plt.xlabel(\"Cohort Year\")\n",
    "plt.ylabel(\"Average Age of Equipment (Years)\")\n",
    "plt.title(\"Average Age of Equipment for Large Tractor Cohorts - Used\")"
   ]
  },
  {
   "cell_type": "markdown",
   "metadata": {},
   "source": [
    "### Combines"
   ]
  },
  {
   "cell_type": "code",
   "execution_count": null,
   "metadata": {},
   "outputs": [],
   "source": [
    "combines_df = df[df[\"combined_product_group\"] == \"COMBINES\"].copy()\n",
    "combines_df.head()"
   ]
  },
  {
   "cell_type": "code",
   "execution_count": null,
   "metadata": {},
   "outputs": [],
   "source": [
    "combines_df[\"Machine Age\"].value_counts().sort_index().plot(kind=\"bar\", title=\"Combine Sales by Equipment Age\")"
   ]
  },
  {
   "cell_type": "code",
   "execution_count": null,
   "metadata": {},
   "outputs": [],
   "source": [
    "# count distinct account_number in each cohort\n",
    "cohort_counts = combines_df.groupby([\"cohort_year\"])[\"account_number\"].nunique().reset_index()\n",
    "cohort_counts.head()"
   ]
  },
  {
   "cell_type": "code",
   "execution_count": null,
   "metadata": {},
   "outputs": [],
   "source": [
    "# group by cohort year and calculate the average year_from_previous_purchase\n",
    "average_year_from_previous_purchase = combines_df.loc[~combines_df.year_from_previous_purchase.isna()].groupby([\"cohort_year\"])[\"year_from_previous_purchase\"].mean().reset_index()\n",
    "sns.lineplot(data=average_year_from_previous_purchase, x=\"cohort_year\", y=\"year_from_previous_purchase\")\n",
    "plt.xlabel(\"Cohort Year\")\n",
    "plt.ylabel(\"Average Time Between Purchases (Years)\")\n",
    "plt.title(\"Average Time Between Purchases for Combine Cohorts\")"
   ]
  },
  {
   "cell_type": "code",
   "execution_count": null,
   "metadata": {},
   "outputs": [],
   "source": [
    "# group by cohort year and calculate the average year_from_previous_purchase\n",
    "average_year_from_previous_purchase = combines_df.loc[(~combines_df.year_from_previous_purchase.isna()) & (combines_df[\"New/Used\"] == \"Used\")].groupby([\"cohort_year\"])[\"year_from_previous_purchase\"].mean().reset_index()\n",
    "sns.lineplot(data=average_year_from_previous_purchase, x=\"cohort_year\", y=\"year_from_previous_purchase\")\n",
    "plt.xlabel(\"Cohort Year\")\n",
    "plt.ylabel(\"Average Time Between Purchases (Years)\")\n",
    "plt.title(\"Average Time Between Purchases for Combine Cohorts - Used\")"
   ]
  },
  {
   "cell_type": "code",
   "execution_count": null,
   "metadata": {},
   "outputs": [],
   "source": [
    "# group by cohort year and calculate the average year_from_previous_purchase\n",
    "average_year_from_previous_purchase = combines_df.loc[(~combines_df.year_from_previous_purchase.isna()) & (combines_df[\"New/Used\"] == \"Used\")].groupby([\"cohort_year\"])[\"Machine Age\"].mean().reset_index()\n",
    "sns.lineplot(data=average_year_from_previous_purchase, x=\"cohort_year\", y=\"Machine Age\")\n",
    "plt.xlabel(\"Cohort Year\")\n",
    "plt.ylabel(\"Average Age of Equipment (Years)\")\n",
    "plt.title(\"Average Age of Equipment for Combine Cohorts - Used\")"
   ]
  }
 ],
 "metadata": {
  "kernelspec": {
   "display_name": "pocs",
   "language": "python",
   "name": "python3"
  },
  "language_info": {
   "codemirror_mode": {
    "name": "ipython",
    "version": 3
   },
   "file_extension": ".py",
   "mimetype": "text/x-python",
   "name": "python",
   "nbconvert_exporter": "python",
   "pygments_lexer": "ipython3",
   "version": "3.9.15"
  }
 },
 "nbformat": 4,
 "nbformat_minor": 2
}
