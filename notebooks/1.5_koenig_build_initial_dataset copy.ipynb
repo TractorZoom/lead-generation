{
 "cells": [
  {
   "cell_type": "markdown",
   "metadata": {},
   "source": [
    "# Create Initial Dataset from Koenig Data\n",
    "\n",
    "The goal here is to try and build the first dataset that ties together Accounts, Dealer Stock Units, Customer Equipment, Stores, and Users. This will be a dataset that will allow us to identify customer buying cycles"
   ]
  },
  {
   "cell_type": "code",
   "execution_count": 4,
   "metadata": {},
   "outputs": [],
   "source": [
    "%load_ext dotenv\n",
    "%dotenv\n",
    "%load_ext autoreload\n",
    "%autoreload 2"
   ]
  },
  {
   "cell_type": "code",
   "execution_count": 62,
   "metadata": {},
   "outputs": [],
   "source": [
    "import json\n",
    "\n",
    "import polars as pl\n",
    "import pandas as pd\n",
    "import seaborn as sns\n",
    "import matplotlib.pyplot as plt\n",
    "import matplotlib.ticker as mtick\n",
    "\n",
    "from src.transformation.translate import (\n",
    "    translate_csv_to_common_model,\n",
    "    translate_koenig_account_columns,\n",
    "    translate_keonig_customer_equipment,\n",
    "    translate_koenig_stock_unit,\n",
    "    translate_koenig_purchase_orders,\n",
    "    translate_koenig_service_requests,\n",
    "    translate_koenig_user,\n",
    "    translate_koenig_store\n",
    ")"
   ]
  },
  {
   "cell_type": "markdown",
   "metadata": {},
   "source": [
    "## Pull in Data and Translate"
   ]
  },
  {
   "cell_type": "code",
   "execution_count": 328,
   "metadata": {},
   "outputs": [],
   "source": [
    "account_df = translate_csv_to_common_model(\n",
    "    \"data/dealers/koenig/account.csv\",\n",
    "    \"koenig\",\n",
    "    \"./src/transformation/semantic_layer.json\",\n",
    "    \"account\",\n",
    ")\n",
    "customer_equipment_df = translate_csv_to_common_model(\n",
    "    \"data/dealers/koenig/customer-equipment.csv\",\n",
    "    \"koenig\",\n",
    "    \"./src/transformation/semantic_layer.json\",\n",
    "    \"customer_equipment\",\n",
    ")\n",
    "stock_unit_df = translate_csv_to_common_model(\n",
    "    \"data/dealers/koenig/dealer-stock-unit.csv\",\n",
    "    \"koenig\",\n",
    "    \"./src/transformation/semantic_layer.json\",\n",
    "    \"dealer_stock_unit\",\n",
    ")\n",
    "purchase_orders_df = translate_csv_to_common_model(\n",
    "    \"data/dealers/koenig/purchase-order.csv\",\n",
    "    \"koenig\",\n",
    "    \"./src/transformation/semantic_layer.json\",\n",
    "    \"purchase_order\",\n",
    ")\n",
    "service_requests_df = translate_csv_to_common_model(\n",
    "    \"data/dealers/koenig/service-requests.csv\",\n",
    "    \"koenig\",\n",
    "    \"./src/transformation/semantic_layer.json\",\n",
    "    \"service_requests\",\n",
    ")\n",
    "user_df = translate_csv_to_common_model(\n",
    "    \"data/dealers/koenig/user.csv\",\n",
    "    \"koenig\",\n",
    "    \"./src/transformation/semantic_layer.json\",\n",
    "    \"user\",\n",
    ")\n",
    "store_df = translate_csv_to_common_model(\n",
    "    \"data/dealers/koenig/store.csv\",\n",
    "    \"koenig\",\n",
    "    \"./src/transformation/semantic_layer.json\",\n",
    "    \"store\",\n",
    ")\n",
    "task_df = translate_csv_to_common_model(\n",
    "    \"data/dealers/koenig/task.csv\",\n",
    "    \"koenig\",\n",
    "    \"./src/transformation/semantic_layer.json\",\n",
    "    \"task\",\n",
    ")\n",
    "account_df = translate_koenig_account_columns(account_df)\n",
    "customer_equipment_df = translate_keonig_customer_equipment(customer_equipment_df)\n",
    "stock_unit_df = translate_koenig_stock_unit(stock_unit_df)\n",
    "purchase_orders_df = translate_koenig_purchase_orders(purchase_orders_df)\n",
    "service_requests_df = translate_koenig_service_requests(service_requests_df)\n",
    "user_df = translate_koenig_user(user_df)\n",
    "store_df = translate_koenig_store(store_df)"
   ]
  },
  {
   "cell_type": "code",
   "execution_count": null,
   "metadata": {},
   "outputs": [],
   "source": [
    "task_df[\"task_subtype\"].value_counts()"
   ]
  },
  {
   "cell_type": "code",
   "execution_count": null,
   "metadata": {},
   "outputs": [],
   "source": [
    "task_df.filter(pl.col(\"task_subtype\") == \"Task\")"
   ]
  },
  {
   "cell_type": "code",
   "execution_count": 331,
   "metadata": {},
   "outputs": [],
   "source": [
    "account_df = account_df[[\"account_id\", \"account_number\", \"account_owner_id\", \"customer_segment\", \"type_of_equipment\", \"customer_loyalty\", \"customer_business_class\", \"engagement_level\"]]\n",
    "customer_equipment_df = customer_equipment_df[[\"customer_equipment_id\", \"account_id\", \"dealer_stock_number\", \"dealer_stock_unit\", \"ce_model_year\", \"ce_make\", \"ce_model\", \"ce_serial_number\", \"ce_status\", \"ce_group\", \"ce_hours\", \"ce_sale_date\", \"ce_hours_date_updated\", \"ce_sale_amount\", \"ce_last_service_date\"]]\n",
    "stock_unit_df = stock_unit_df[[\"dealer_stock_unit_id\", \"dealer_stock_number\", \"dsu_account_id\", \"dsu_description\", \"dsu_status\", \"dsu_group\", \"dsu_model_year\", \"dsu_make\", \"dsu_model\", \"dsu_serial_number\", \"dsu_new_used\", \"dsu_sub_group\", \"dsu_hours_or_units\", \"dsu_store\", \"dsu_user_traded_by\", \"dsu_sale_price\", \"dsu_sales_date\", \"dsu_invoice_number\", \"dsu_sold_by\"]]\n",
    "user_df = user_df[[\"user_id\", \"user_branch_location\", \"user_primary_store_location_id\", \"user_manager\", \"user_region_manager\", \"user_title\", \"user_active\"]]\n",
    "store_df = store_df[[\"store_id\", \"store_branch\", \"store_postal_code\", \"store_state\", \"store_city\", \"store_county\"]]\n",
    "task_df = task_df[\n",
    "    [\n",
    "        \"task_id\",\n",
    "        \"task_account_id\",\n",
    "        \"task_owner_id\",\n",
    "        \"task_created_date\",\n",
    "        \"task_activity_date\",\n",
    "        \"task_type\",\n",
    "        \"task_subtype\",\n",
    "        \"task_status\",\n",
    "        \"task_priority\",\n",
    "        \"task_subject\",\n",
    "    ]\n",
    "]"
   ]
  },
  {
   "cell_type": "code",
   "execution_count": null,
   "metadata": {},
   "outputs": [],
   "source": [
    "service_requests_df"
   ]
  },
  {
   "cell_type": "code",
   "execution_count": null,
   "metadata": {},
   "outputs": [],
   "source": [
    "service_requests_df.filter(\n",
    "    pl.col(\"service_dealer_stock_unit_id\") == \"a065f000001RXNZAA4\"\n",
    ")"
   ]
  },
  {
   "cell_type": "code",
   "execution_count": null,
   "metadata": {},
   "outputs": [],
   "source": [
    "service_requests_df.filter(\n",
    "    pl.col(\"service_dealer_stock_unit_id\").is_in(\n",
    "        stock_unit_df.filter(pl.col(\"dsu_account_id\") == \"0015f000005XwrwAAC\")[\n",
    "            \"dealer_stock_unit_id\"\n",
    "        ].to_list()\n",
    "    )\n",
    ")"
   ]
  },
  {
   "cell_type": "code",
   "execution_count": null,
   "metadata": {},
   "outputs": [],
   "source": [
    "stock_unit_df.filter(pl.col(\"dsu_account_id\") == \"0015f000005XwrwAAC\")"
   ]
  },
  {
   "cell_type": "code",
   "execution_count": null,
   "metadata": {},
   "outputs": [],
   "source": [
    "# Remove customer_equipment_df of rows with dealer_stock_number in stock_unit_df\n",
    "print(len(customer_equipment_df))\n",
    "customer_equipment_df = customer_equipment_df.filter(pl.col(\"dealer_stock_number\").is_in(stock_unit_df[\"dealer_stock_number\"].unique().to_list()))\n",
    "print(len(customer_equipment_df))"
   ]
  },
  {
   "cell_type": "code",
   "execution_count": null,
   "metadata": {},
   "outputs": [],
   "source": [
    "task_df = (\n",
    "    task_df.filter(pl.col(\"task_status\") == \"Completed\")\n",
    "    .filter((pl.col(\"task_subtype\").is_in([\"Email\", \"Call\"])) | (pl.col(\"task_subject\").str.contains(\"Call Report\")))\n",
    "    .group_by(\"task_account_id\")\n",
    "    .agg(\n",
    "        pl.count(\"task_id\").alias(\"task_count\"),\n",
    "        pl.max(\"task_activity_date\").alias(\"last_task_date\"),\n",
    "        pl.min(\"task_activity_date\").alias(\"first_task_date\"),\n",
    "    )\n",
    ")\n",
    "\n",
    "data_df = account_df.join(customer_equipment_df, on=\"account_id\", how=\"left\")\n",
    "data_df = data_df.join(stock_unit_df, on=\"dealer_stock_number\", how=\"left\")\n",
    "data_df = data_df.join(user_df, left_on=\"account_owner_id\", right_on=\"user_id\", how=\"left\")\n",
    "data_df = data_df.join(store_df, left_on=\"user_branch_location\", right_on=\"store_id\", how=\"left\")\n",
    "data_df = data_df.join(task_df, left_on=\"account_id\", right_on=\"task_account_id\", how=\"left\")\n",
    "data_df.head()"
   ]
  },
  {
   "cell_type": "code",
   "execution_count": null,
   "metadata": {},
   "outputs": [],
   "source": [
    "print(data_df[\"dsu_group\"].unique().to_list())"
   ]
  },
  {
   "cell_type": "code",
   "execution_count": null,
   "metadata": {},
   "outputs": [],
   "source": [
    "data_df[\"dsu_make\"].value_counts().sort(by=\"count\", descending=True).head(10)"
   ]
  },
  {
   "cell_type": "code",
   "execution_count": null,
   "metadata": {},
   "outputs": [],
   "source": [
    "def get_majority_value(primary_keys: list, value:str):\n",
    "    return (\n",
    "        pl.col(value)\n",
    "        .drop_nulls()  # Use this if you don't want to consider \"None\" as a possible mode\n",
    "        .mode()\n",
    "        .first()\n",
    "        .over(primary_keys)\n",
    "        .alias(\"majority_value\")\n",
    "    )\n",
    "\n",
    "\n",
    "data_df[[\"dsu_make\", \"dsu_description\"]].with_columns(\n",
    "    get_majority_value(primary_keys=[\"dsu_make\"], value=\"dsu_description\")\n",
    ")[[\"dsu_make\", \"majority_value\"]].unique()"
   ]
  },
  {
   "cell_type": "code",
   "execution_count": null,
   "metadata": {},
   "outputs": [],
   "source": [
    "data_df[\"dsu_make\"].value_counts().sort(by=\"count\", descending=True).head(15)"
   ]
  },
  {
   "cell_type": "code",
   "execution_count": null,
   "metadata": {},
   "outputs": [],
   "source": [
    "data_df.group_by(\"dsu_make\").agg(pl.sum(\"dsu_sale_price\")).sort(by=\"dsu_sale_price\", descending=True).head(20)"
   ]
  },
  {
   "cell_type": "code",
   "execution_count": null,
   "metadata": {},
   "outputs": [],
   "source": [
    "data_df.filter(pl.col(\"dsu_make\") == \"CT\")[\"dsu_description\"].value_counts().sort(\n",
    "    by=\"count\", descending=True\n",
    ").head(10)"
   ]
  },
  {
   "cell_type": "code",
   "execution_count": null,
   "metadata": {},
   "outputs": [],
   "source": [
    "make_desc_df = data_df[[\"dsu_make\", \"dsu_description\"]]\n",
    "# for a given make, what are the most common descriptions\n",
    "make_desc_df = make_desc_df.group_by([\"dsu_make\", \"dsu_description\"]).agg(\n",
    "    pl.count(\"dsu_description\").alias(\"count\")\n",
    ").sort(by=\"count\", descending=True)\n",
    "make_desc_df.with_columns(pl.col(\"dsu_)"
   ]
  },
  {
   "cell_type": "code",
   "execution_count": null,
   "metadata": {},
   "outputs": [],
   "source": [
    "data_df.group_by(\"dsu_group\").agg(\n",
    "    [pl.sum(\"dsu_sale_price\"), pl.count(\"dealer_stock_unit_id\")]\n",
    ").sort(\"dealer_stock_unit_id\", descending=True).head(10)"
   ]
  },
  {
   "cell_type": "code",
   "execution_count": 36,
   "metadata": {},
   "outputs": [],
   "source": [
    "data_df = data_df.filter(\n",
    "    ~pl.col(\"dsu_invoice_number\").is_in([\"NOTAVA\", \"EQPADD\"])\n",
    ").filter(pl.col(\"dsu_group\") != \"AMS COMPONENTS\")"
   ]
  },
  {
   "cell_type": "code",
   "execution_count": null,
   "metadata": {},
   "outputs": [],
   "source": [
    "data_df.describe()"
   ]
  },
  {
   "cell_type": "code",
   "execution_count": null,
   "metadata": {},
   "outputs": [],
   "source": [
    "data_df[\"customer_segment\"].value_counts().sort(by=\"count\", descending=True)"
   ]
  },
  {
   "cell_type": "code",
   "execution_count": null,
   "metadata": {},
   "outputs": [],
   "source": [
    "data_df[\"customer_segment\"].unique().to_list()"
   ]
  },
  {
   "cell_type": "code",
   "execution_count": null,
   "metadata": {},
   "outputs": [],
   "source": [
    "data_df[\"type_of_equipment\"].value_counts().sort(by=\"count\", descending=True)"
   ]
  },
  {
   "cell_type": "markdown",
   "metadata": {},
   "source": [
    "## Create Aggregate Statistics for Accounts\n",
    "- Calculate total equipment spend\n",
    "- Most common category\n",
    "- Frequency in purchases per year\n",
    "- Monetary spend per year\n",
    "- Age of equipment (if year > 1900)"
   ]
  },
  {
   "cell_type": "code",
   "execution_count": 326,
   "metadata": {},
   "outputs": [],
   "source": [
    "account_level_df = (\n",
    "    data_df.filter(~pl.col(\"dsu_invoice_number\").is_in([\"NOTAVA\", \"EQPADD\"]))\n",
    "    .filter(pl.col(\"dsu_group\") != \"AMS COMPONENTS\")\n",
    "    .group_by(\"account_id\")\n",
    "    .agg(\n",
    "        [\n",
    "            pl.sum(\"dsu_sale_price\").alias(\"total_sale_amount\"),\n",
    "            pl.n_unique(\"dealer_stock_number\").alias(\"total_units\"),\n",
    "            pl.col(\"dsu_group\").mode().first().alias(\"most_common_group\"),\n",
    "            pl.when(pl.col(\"dsu_model_year\") > 1900)\n",
    "            .then(pl.col(\"dsu_sales_date\").dt.year() - pl.col(\"dsu_model_year\"))\n",
    "            .otherwise(None)\n",
    "            .mean()\n",
    "            .alias(\"average_equipment_age\"),\n",
    "            pl.max(\"dsu_sales_date\").alias(\"last_sale_date\"),\n",
    "            pl.mean(\"task_count\").alias(\"task_count\"),\n",
    "            pl.max(\"last_task_date\").alias(\"last_task_date\"),\n",
    "            pl.min(\"first_task_date\").alias(\"first_task_date\"),\n",
    "            pl.first(\"customer_segment\").alias(\"customer_segment\"),\n",
    "            pl.first(\"type_of_equipment\").alias(\"type_of_equipment\"),\n",
    "            pl.first(\"customer_loyalty\").alias(\"customer_loyalty\"),\n",
    "            pl.first(\"customer_business_class\").alias(\"customer_business_class\"),\n",
    "            pl.first(\"engagement_level\").alias(\"engagement_level\"),\n",
    "            pl.first(\"user_branch_location\").alias(\"user_branch_location\"),\n",
    "            pl.first(\"account_owner_id\").alias(\"owner_id\"),\n",
    "            pl.first(\"user_active\").alias(\"user_active\"),\n",
    "        ]\n",
    "    )\n",
    ")\n",
    "account_level_df = account_level_df.with_columns(\n",
    "    pl.col(\"task_count\").fill_null(0),\n",
    ")"
   ]
  },
  {
   "cell_type": "code",
   "execution_count": null,
   "metadata": {},
   "outputs": [],
   "source": [
    "account_df.shape"
   ]
  },
  {
   "cell_type": "code",
   "execution_count": null,
   "metadata": {},
   "outputs": [],
   "source": [
    "account_level_df.head()"
   ]
  },
  {
   "cell_type": "code",
   "execution_count": null,
   "metadata": {},
   "outputs": [],
   "source": [
    "account_level_df.filter(pl.col(\"first_task_date\").is_not_null()).sort(\"first_task_date\", descending=False).head(10)"
   ]
  },
  {
   "cell_type": "code",
   "execution_count": null,
   "metadata": {},
   "outputs": [],
   "source": [
    "account_level_df.group_by(\"owner_id\").agg(\n",
    "    [pl.sum(\"total_sale_amount\"), pl.sum(\"total_units\")]\n",
    ").sort(by=\"total_sale_amount\", descending=True)"
   ]
  },
  {
   "cell_type": "code",
   "execution_count": null,
   "metadata": {},
   "outputs": [],
   "source": [
    "account_level_df.group_by(\"owner_id\").agg(\n",
    "    [pl.sum(\"total_sale_amount\"), pl.sum(\"total_units\")]\n",
    ").sort(by=\"total_sale_amount\", descending=True)"
   ]
  },
  {
   "cell_type": "code",
   "execution_count": null,
   "metadata": {},
   "outputs": [],
   "source": [
    "account_level_df.group_by(\"owner_id\").agg(\n",
    "    [pl.sum(\"total_sale_amount\"), pl.sum(\"total_units\")]\n",
    ").sort(by=\"total_units\", descending=True)"
   ]
  },
  {
   "cell_type": "code",
   "execution_count": null,
   "metadata": {},
   "outputs": [],
   "source": [
    "account_level_df.group_by(\"owner_id\").agg(\n",
    "    [pl.sum(\"total_sale_amount\"), pl.sum(\"total_units\")]\n",
    ").quantile(.9)"
   ]
  },
  {
   "cell_type": "code",
   "execution_count": null,
   "metadata": {},
   "outputs": [],
   "source": [
    "account_level_df.filter(pl.col(\"user_active\") == False)[\"total_sale_amount\"].sum() / account_level_df[\"total_sale_amount\"].sum()"
   ]
  },
  {
   "cell_type": "code",
   "execution_count": null,
   "metadata": {},
   "outputs": [],
   "source": [
    "# what's percent of sales volume by top 5 sales people\n",
    "top_5_sales_people = account_level_df.group_by(\"owner_id\").agg(\n",
    "    pl.sum(\"total_sale_amount\").alias(\"total_sale_amount\")\n",
    ").sort(by=\"total_sale_amount\", descending=True).head(5)\n",
    "top_5_sales_people[\"total_sale_amount\"].sum() / account_level_df[\n",
    "    \"total_sale_amount\"\n",
    "].sum()"
   ]
  },
  {
   "cell_type": "code",
   "execution_count": null,
   "metadata": {},
   "outputs": [],
   "source": [
    "n_top_1_perc = int(account_level_df.shape[0] * 0.01)\n",
    "top_1_perc_accounts = account_level_df.sort(by=\"total_sale_amount\", descending=True).head(n_top_1_perc)\n",
    "top_1_perc_accounts[\"total_sale_amount\"].sum() / account_level_df[\"total_sale_amount\"].sum()"
   ]
  },
  {
   "cell_type": "code",
   "execution_count": null,
   "metadata": {},
   "outputs": [],
   "source": [
    "top_1_perc_accounts[\"total_units\"].sum() / account_level_df[\"total_units\"].sum()"
   ]
  },
  {
   "cell_type": "code",
   "execution_count": null,
   "metadata": {},
   "outputs": [],
   "source": [
    "# what's percent of sales volume by top 5 sales people\n",
    "top_5_sales_people = (\n",
    "    account_level_df.group_by(\"owner_id\")\n",
    "    .agg(pl.sum(\"total_units\").alias(\"total_units\"))\n",
    "    .sort(by=\"total_units\", descending=True)\n",
    "    .head(5)\n",
    ")\n",
    "top_5_sales_people[\"total_units\"].sum() / account_level_df[\"total_units\"].sum()"
   ]
  },
  {
   "cell_type": "code",
   "execution_count": null,
   "metadata": {},
   "outputs": [],
   "source": [
    "# percentage of accounts with non-active owner_id\n",
    "len(account_level_df.filter(pl.col(\"user_active\") == False)) / len(account_level_df)"
   ]
  },
  {
   "cell_type": "code",
   "execution_count": null,
   "metadata": {},
   "outputs": [],
   "source": [
    "account_level_df.filter(pl.col(\"account_id\") == \"0015f000005X2stAAC\").head()"
   ]
  },
  {
   "cell_type": "code",
   "execution_count": null,
   "metadata": {},
   "outputs": [],
   "source": [
    "account_level_df.filter(pl.col(\"customer_segment\") == \"Cash Grain\").sort(by=\"total_sale_amount\", descending=True).head()"
   ]
  },
  {
   "cell_type": "code",
   "execution_count": null,
   "metadata": {},
   "outputs": [],
   "source": [
    "len(account_level_df.filter(pl.col(\"total_sale_amount\") < 10)) / len(account_level_df)"
   ]
  },
  {
   "cell_type": "code",
   "execution_count": null,
   "metadata": {},
   "outputs": [],
   "source": [
    "len(account_level_df.filter(pl.col(\"customer_segment\") == \"Cash Grain\"))"
   ]
  },
  {
   "cell_type": "code",
   "execution_count": null,
   "metadata": {},
   "outputs": [],
   "source": [
    "account_level_df.filter(pl.col(\"customer_segment\") == \"Cash Grain\").group_by(\n",
    "    \"customer_business_class\"\n",
    ").agg(pl.count(\"account_id\"))"
   ]
  },
  {
   "cell_type": "code",
   "execution_count": null,
   "metadata": {},
   "outputs": [],
   "source": [
    "account_level_df.filter(pl.col(\"customer_segment\") == \"Cash Grain\").group_by(\n",
    "    \"customer_business_class\"\n",
    ").agg(pl.sum(\"total_sale_amount\"))"
   ]
  },
  {
   "cell_type": "code",
   "execution_count": null,
   "metadata": {},
   "outputs": [],
   "source": [
    "account_level_df.filter(pl.col(\"customer_business_class\") == \"A - Strategic Account\").group_by(\"customer_loyalty\").agg(\n",
    "    pl.count(\"account_id\")\n",
    ")"
   ]
  },
  {
   "cell_type": "code",
   "execution_count": null,
   "metadata": {},
   "outputs": [],
   "source": [
    "plt.figure(figsize=(10, 6))\n",
    "ax = sns.scatterplot(\n",
    "    data=account_level_df.filter(pl.col(\"customer_segment\") == \"Cash Grain\").filter(pl.col(\"customer_business_class\").is_in([\"A - Strategic Account\", \"B - Key Account\", \"C - Relationship Account\", \"D - Transaction Account\"])),\n",
    "    x=\"total_sale_amount\",\n",
    "    y=\"total_units\",\n",
    "    hue=\"customer_business_class\",\n",
    "    palette=\"colorblind\",\n",
    ")\n",
    "plt.ylabel(\"Total Units\")\n",
    "plt.xlabel(\"Total Sale Amount\")\n",
    "# set x-axis to 1,000s of $\n",
    "ax.xaxis.set_major_formatter(mtick.FuncFormatter(lambda x, _: f\"${x / 1000000:,.0f}M\"))\n",
    "plt.title(\"Cash Grain Customers\")"
   ]
  },
  {
   "cell_type": "code",
   "execution_count": null,
   "metadata": {},
   "outputs": [],
   "source": [
    "plt.figure(figsize=(10, 6))\n",
    "ax = sns.scatterplot(\n",
    "    data=account_level_df.filter(pl.col(\"customer_segment\") == \"Governmental\"),\n",
    "    x=\"total_sale_amount\",\n",
    "    y=\"total_units\",\n",
    "    hue=\"customer_business_class\",\n",
    "    palette=\"colorblind\",\n",
    ")\n",
    "plt.ylabel(\"Total Units\")\n",
    "plt.xlabel(\"Total Sale Amount\")\n",
    "\n",
    "# set x-axis to 1,000s of $\n",
    "ax.xaxis.set_major_formatter(mtick.FuncFormatter(lambda x, _: f\"${x / 1000000:,.0f}M\"))\n",
    "plt.title(\"Governmental Customers\")"
   ]
  },
  {
   "cell_type": "code",
   "execution_count": null,
   "metadata": {},
   "outputs": [],
   "source": [
    "plt.figure(figsize=(10, 6))\n",
    "ax = sns.scatterplot(\n",
    "    data=account_level_df.filter(\n",
    "        pl.col(\"customer_segment\").is_in(\n",
    "            [\"Grain Beef\", \"Grain Hogs\", \"Grain Livestock\", \"Grain Dairy\", \"Dairy\"]\n",
    "        )\n",
    "    ),\n",
    "    x=\"total_sale_amount\",\n",
    "    y=\"total_units\",\n",
    "    hue=\"customer_business_class\",\n",
    "    palette=\"colorblind\",\n",
    ")\n",
    "plt.ylabel(\"Total Units\")\n",
    "plt.xlabel(\"Total Sale Amount\")\n",
    "\n",
    "# set x-axis to 1,000s of $\n",
    "ax.xaxis.set_major_formatter(mtick.FuncFormatter(lambda x, _: f\"${x / 1000000:,.0f}M\"))\n",
    "plt.title(\"Livestock Customers\")"
   ]
  },
  {
   "cell_type": "code",
   "execution_count": null,
   "metadata": {},
   "outputs": [],
   "source": [
    "plt.figure(figsize=(10, 6))\n",
    "ax = sns.scatterplot(\n",
    "    data=account_level_df.filter(pl.col(\"customer_segment\") == \"Cash Grain\").filter(pl.col(\"customer_business_class\").is_null()),\n",
    "    x=\"total_sale_amount\",\n",
    "    y=\"total_units\",\n",
    ")\n",
    "plt.ylabel(\"Total Units\")\n",
    "plt.xlabel(\"Total Sale Amount\")\n",
    "# set x-axis to 1,000s of $\n",
    "ax.xaxis.set_major_formatter(mtick.FuncFormatter(lambda x, _: f\"${x / 1000:,.0f}K\"))\n",
    "plt.title(\"Cash Grain Customers\")"
   ]
  },
  {
   "cell_type": "code",
   "execution_count": null,
   "metadata": {},
   "outputs": [],
   "source": [
    "account_level_df[[\"customer_business_class\", \"task_count\"]].group_by(\"customer_business_class\").mean()"
   ]
  },
  {
   "cell_type": "code",
   "execution_count": null,
   "metadata": {},
   "outputs": [],
   "source": [
    "account_level_df.filter(pl.col(\"customer_business_class\") == \"A - Strategic Account\").filter((pl.col(\"task_count\") < 1)) .sort(by=\"total_sale_amount\", descending=True).head()"
   ]
  },
  {
   "cell_type": "code",
   "execution_count": null,
   "metadata": {},
   "outputs": [],
   "source": [
    "len(account_level_df.filter(\n",
    "    pl.col(\"customer_business_class\") == \"A - Strategic Account\"\n",
    ").filter((pl.col(\"task_count\") < 2))) / len(account_level_df.filter(pl.col(\"customer_business_class\") == \"A - Strategic Account\"))"
   ]
  },
  {
   "cell_type": "code",
   "execution_count": null,
   "metadata": {},
   "outputs": [],
   "source": [
    "len(\n",
    "    account_level_df.filter(\n",
    "        pl.col(\"customer_business_class\") == \"B - Key Account\"\n",
    "    ).filter((pl.col(\"task_count\") < 2) | (pl.col(\"task_count\").is_null())) \n",
    ") / len(account_level_df.filter(pl.col(\"customer_business_class\") == \"B - Key Account\"))"
   ]
  },
  {
   "cell_type": "code",
   "execution_count": null,
   "metadata": {},
   "outputs": [],
   "source": [
    "sns.boxplot(\n",
    "    data=account_level_df.filter(pl.col(\"customer_segment\") == \"Cash Grain\"),\n",
    "    x=\"customer_business_class\",\n",
    "    y=\"task_count\",\n",
    ")\n",
    "plt.xticks(rotation=90)"
   ]
  },
  {
   "cell_type": "code",
   "execution_count": null,
   "metadata": {},
   "outputs": [],
   "source": [
    "sns.kdeplot(\n",
    "    data=account_level_df.filter(pl.col(\"customer_segment\") == \"Cash Grain\").filter(pl.col(\"customer_business_class\").is_in([\"A - Strategic Account\", \"B - Key Account\"])),\n",
    "    x=\"task_count\",\n",
    "    hue=\"customer_business_class\",\n",
    "    fill=True,\n",
    ")\n",
    "plt.xticks(rotation=90)"
   ]
  },
  {
   "cell_type": "code",
   "execution_count": null,
   "metadata": {},
   "outputs": [],
   "source": [
    "len(\n",
    "    account_level_df.filter(pl.col(\"total_sale_amount\") > 100000).filter(\n",
    "        pl.col(\"customer_segment\").is_null()\n",
    "    )\n",
    ") / len(\n",
    "    account_level_df.filter(pl.col(\"total_sale_amount\") > 100000)\n",
    ")"
   ]
  },
  {
   "cell_type": "code",
   "execution_count": null,
   "metadata": {},
   "outputs": [],
   "source": [
    "len(\n",
    "    account_level_df.filter(pl.col(\"total_sale_amount\") > 10000).filter(\n",
    "        pl.col(\"customer_business_class\").is_null()\n",
    "    )\n",
    ") / len(account_level_df.filter(pl.col(\"total_sale_amount\") > 10000))"
   ]
  },
  {
   "cell_type": "code",
   "execution_count": null,
   "metadata": {},
   "outputs": [],
   "source": [
    "len(\n",
    "    account_level_df.filter(pl.col(\"total_sale_amount\") > 10000).filter(\n",
    "        pl.col(\"customer_segment\").is_null()\n",
    "    )\n",
    ") / len(account_level_df.filter(pl.col(\"total_sale_amount\") > 10000))"
   ]
  },
  {
   "cell_type": "code",
   "execution_count": null,
   "metadata": {},
   "outputs": [],
   "source": [
    "len(\n",
    "    account_level_df.filter(pl.col(\"total_sale_amount\") > 100000).filter(\n",
    "        pl.col(\"customer_segment\").is_null()\n",
    "    )\n",
    ") / len(account_level_df.filter(pl.col(\"total_sale_amount\") > 100000))"
   ]
  },
  {
   "cell_type": "markdown",
   "metadata": {},
   "source": [
    "## Dealer Stock Unit"
   ]
  },
  {
   "cell_type": "code",
   "execution_count": null,
   "metadata": {},
   "outputs": [],
   "source": [
    "len(stock_unit_df.filter(pl.col(\"dsu_model_year\") == 0)) / len(stock_unit_df)"
   ]
  },
  {
   "cell_type": "code",
   "execution_count": null,
   "metadata": {},
   "outputs": [],
   "source": [
    "stock_unit_df[\"dsu_group\"].value_counts().sort(by=\"count\", descending=True)"
   ]
  },
  {
   "cell_type": "code",
   "execution_count": null,
   "metadata": {},
   "outputs": [],
   "source": [
    "stock_unit_df.filter(~pl.col(\"dsu_invoice_number\").is_in([\"NOTAVA\", \"EQPADD\", \"N/A\"])).filter(pl.col(\"dsu_group\") != \"AMS COMPONENTS\").filter(pl.col(\"dsu_sale_price\") < 1)"
   ]
  },
  {
   "cell_type": "code",
   "execution_count": null,
   "metadata": {},
   "outputs": [],
   "source": [
    "len(stock_unit_df.filter(~pl.col(\"dsu_invoice_number\").is_in([\"NOTAVA\", \"EQPADD\", \"N/A\"]))) /  len(stock_unit_df)"
   ]
  },
  {
   "cell_type": "code",
   "execution_count": null,
   "metadata": {},
   "outputs": [],
   "source": [
    "len(\n",
    "    stock_unit_df.filter(\n",
    "        ~pl.col(\"dsu_invoice_number\").is_in([\"NOTAVA\", \"EQPADD\", \"N/A\"])\n",
    "    ).filter(\n",
    "        pl.col(\"dsu_group\") == \"COMBINES\")\n",
    ") / len(stock_unit_df.filter(\n",
    "        pl.col(\"dsu_group\") == \"COMBINES\"))"
   ]
  },
  {
   "cell_type": "code",
   "execution_count": null,
   "metadata": {},
   "outputs": [],
   "source": [
    "len(\n",
    "    stock_unit_df.filter(\n",
    "        ~pl.col(\"dsu_invoice_number\").is_in([\"NOTAVA\", \"EQPADD\", \"N/A\"])\n",
    "    ).filter(pl.col(\"dsu_group\") == \"ROW CROP TRACTOR\")\n",
    ") / len(stock_unit_df.filter(pl.col(\"dsu_group\") == \"ROW CROP TRACTOR\"))"
   ]
  },
  {
   "cell_type": "code",
   "execution_count": null,
   "metadata": {},
   "outputs": [],
   "source": [
    "len(\n",
    "    stock_unit_df.filter(pl.col(\"dsu_model_year\") == 0).filter(\n",
    "        pl.col(\"dsu_group\") == \"COMBINES\"\n",
    "    )\n",
    ") / len(stock_unit_df.filter(pl.col(\"dsu_group\") == \"COMBINES\"))"
   ]
  },
  {
   "cell_type": "code",
   "execution_count": null,
   "metadata": {},
   "outputs": [],
   "source": [
    "len(stock_unit_df.filter(pl.col(\"dsu_model_year\") == 0)) / len(stock_unit_df)"
   ]
  },
  {
   "cell_type": "code",
   "execution_count": null,
   "metadata": {},
   "outputs": [],
   "source": [
    "len(\n",
    "    stock_unit_df.filter(pl.col(\"dsu_model_year\") == 0).filter(\n",
    "        pl.col(\"dsu_group\") == \"ROW CROP TRACTOR\"\n",
    "    )\n",
    ") / len(stock_unit_df.filter(pl.col(\"dsu_group\") == \"ROW CROP TRACTOR\"))"
   ]
  },
  {
   "cell_type": "code",
   "execution_count": null,
   "metadata": {},
   "outputs": [],
   "source": [
    "len(\n",
    "    stock_unit_df.filter(pl.col(\"dsu_model_year\") == 0)\n",
    "    .filter(~pl.col(\"dsu_invoice_number\").is_in([\"NOTAVA\", \"EQPADD\", \"N/A\"]))\n",
    ") / len(\n",
    "    stock_unit_df.filter(\n",
    "        ~pl.col(\"dsu_invoice_number\").is_in([\"NOTAVA\", \"EQPADD\", \"N/A\"])\n",
    "    ))"
   ]
  },
  {
   "cell_type": "code",
   "execution_count": null,
   "metadata": {},
   "outputs": [],
   "source": [
    "len(\n",
    "    stock_unit_df.filter(pl.col(\"dsu_model_year\") == 0)\n",
    "    .filter(~pl.col(\"dsu_invoice_number\").is_in([\"NOTAVA\", \"EQPADD\", \"N/A\"]))\n",
    "    .filter(pl.col(\"dsu_group\") == \"ROW CROP TRACTOR\")\n",
    ") / len(\n",
    "    stock_unit_df.filter(~pl.col(\"dsu_invoice_number\").is_in([\"NOTAVA\", \"EQPADD\", \"N/A\"]))\n",
    "    .filter(pl.col(\"dsu_group\") == \"ROW CROP TRACTOR\")\n",
    ")"
   ]
  },
  {
   "cell_type": "code",
   "execution_count": null,
   "metadata": {},
   "outputs": [],
   "source": [
    "len(\n",
    "    stock_unit_df.filter(pl.col(\"dsu_model_year\") == 0)\n",
    "    .filter(~pl.col(\"dsu_invoice_number\").is_in([\"NOTAVA\", \"EQPADD\", \"N/A\"]))\n",
    "    .filter(pl.col(\"dsu_group\") == \"COMBINES\")\n",
    ") / len(\n",
    "    stock_unit_df.filter(\n",
    "        ~pl.col(\"dsu_invoice_number\").is_in([\"NOTAVA\", \"EQPADD\", \"N/A\"])\n",
    "    ).filter(pl.col(\"dsu_group\") == \"COMBINES\")\n",
    ")"
   ]
  },
  {
   "cell_type": "code",
   "execution_count": null,
   "metadata": {},
   "outputs": [],
   "source": [
    "len(\n",
    "    stock_unit_df.filter(pl.col(\"dsu_hours_or_units\") == 0)\n",
    "    .filter(pl.col(\"dsu_new_used\") == \"U\")\n",
    "    .filter(pl.col(\"dsu_group\") == \"COMBINES\")\n",
    ") / len(\n",
    "    stock_unit_df.filter(pl.col(\"dsu_group\") == \"COMBINES\").filter(\n",
    "        pl.col(\"dsu_new_used\") == \"U\"\n",
    "    )\n",
    ")"
   ]
  },
  {
   "cell_type": "code",
   "execution_count": null,
   "metadata": {},
   "outputs": [],
   "source": [
    "len(\n",
    "    stock_unit_df.filter(pl.col(\"dsu_hours_or_units\") == 0)\n",
    "    .filter(pl.col(\"dsu_new_used\") == \"U\")\n",
    "    .filter(pl.col(\"dsu_group\") == \"ROW CROP TRACTOR\")\n",
    ") / len(\n",
    "    stock_unit_df.filter(pl.col(\"dsu_group\") == \"ROW CROP TRACTOR\").filter(\n",
    "        pl.col(\"dsu_new_used\") == \"U\"\n",
    "    )\n",
    ")"
   ]
  },
  {
   "cell_type": "code",
   "execution_count": null,
   "metadata": {},
   "outputs": [],
   "source": [
    "len(\n",
    "    stock_unit_df.filter(pl.col(\"dsu_hours_or_units\") == 0).filter(\n",
    "        pl.col(\"dsu_new_used\") == \"U\"\n",
    "    )\n",
    ") / len(stock_unit_df.filter(pl.col(\"dsu_new_used\") == \"U\"))"
   ]
  },
  {
   "cell_type": "code",
   "execution_count": null,
   "metadata": {},
   "outputs": [],
   "source": [
    "len(\n",
    "    stock_unit_df.filter(pl.col(\"dsu_hours_or_units\") == 0)\n",
    "    .filter(pl.col(\"dsu_new_used\") == \"U\")\n",
    "    .filter(~pl.col(\"dsu_invoice_number\").is_in([\"NOTAVA\", \"EQPADD\", \"N/A\"]))\n",
    ") / len(\n",
    "    stock_unit_df.filter(pl.col(\"dsu_new_used\") == \"U\").filter(\n",
    "        ~pl.col(\"dsu_invoice_number\").is_in([\"NOTAVA\", \"EQPADD\", \"N/A\"])\n",
    "    )\n",
    ")"
   ]
  },
  {
   "cell_type": "code",
   "execution_count": null,
   "metadata": {},
   "outputs": [],
   "source": [
    "len(\n",
    "    stock_unit_df.filter(pl.col(\"dsu_hours_or_units\") == 0)\n",
    "    .filter(pl.col(\"dsu_new_used\") == \"U\")\n",
    "    .filter(~pl.col(\"dsu_invoice_number\").is_in([\"NOTAVA\", \"EQPADD\", \"N/A\"]))\n",
    "    .filter(pl.col(\"dsu_group\") == \"ROW CROP TRACTOR\")\n",
    ") / len(\n",
    "    stock_unit_df.filter(pl.col(\"dsu_new_used\") == \"U\")\n",
    "    .filter(~pl.col(\"dsu_invoice_number\").is_in([\"NOTAVA\", \"EQPADD\", \"N/A\"]))\n",
    "    .filter(pl.col(\"dsu_group\") == \"ROW CROP TRACTOR\")\n",
    ")"
   ]
  },
  {
   "cell_type": "code",
   "execution_count": null,
   "metadata": {},
   "outputs": [],
   "source": [
    "len(\n",
    "    stock_unit_df.filter(pl.col(\"dsu_hours_or_units\") == 0)\n",
    "    .filter(pl.col(\"dsu_new_used\") == \"U\")\n",
    "    .filter(~pl.col(\"dsu_invoice_number\").is_in([\"NOTAVA\", \"EQPADD\", \"N/A\"]))\n",
    "    .filter(pl.col(\"dsu_group\") == \"ROW CROP TRACTOR\")\n",
    ") / len(\n",
    "    stock_unit_df.filter(pl.col(\"dsu_new_used\") == \"U\")\n",
    "    .filter(~pl.col(\"dsu_invoice_number\").is_in([\"NOTAVA\", \"EQPADD\", \"N/A\"]))\n",
    "    .filter(pl.col(\"dsu_group\") == \"COMBINES\")\n",
    ")"
   ]
  },
  {
   "cell_type": "code",
   "execution_count": null,
   "metadata": {},
   "outputs": [],
   "source": [
    "plt.figure(figsize=(10, 6))\n",
    "sns.histplot(x=\"dsu_sales_date\", data=stock_unit_df.to_pandas())\n",
    "plt.ylabel(\"Count of Units Sold\")\n",
    "plt.xlabel(\"Sales Date\")"
   ]
  },
  {
   "cell_type": "code",
   "execution_count": null,
   "metadata": {},
   "outputs": [],
   "source": [
    "plt.figure(figsize=(10, 6))\n",
    "ax = sns.kdeplot(x=\"dsu_sale_price\", data=stock_unit_df.to_pandas())\n",
    "plt.ylabel(\"Count of Sale Price\")\n",
    "plt.xlabel(\"Sale Price\")\n",
    "ax.xaxis.set_major_formatter(mtick.FuncFormatter(lambda x, _: f\"${x / 1000:,.0f}K\"))"
   ]
  },
  {
   "cell_type": "code",
   "execution_count": null,
   "metadata": {},
   "outputs": [],
   "source": [
    "stock_unit_df.filter(pl.col(\"dsu_sale_price\") < 1).shape[0] / stock_unit_df.shape[0]"
   ]
  },
  {
   "cell_type": "code",
   "execution_count": null,
   "metadata": {},
   "outputs": [],
   "source": [
    "stock_unit_df.filter(pl.col(\"dsu_sale_price\") < 1).filter(\n",
    "    pl.col(\"dsu_group\") == \"ROW CROP TRACTOR\"\n",
    ").shape[0] / stock_unit_df.filter(pl.col(\"dsu_group\") == \"ROW CROP TRACTOR\").shape[0]"
   ]
  },
  {
   "cell_type": "code",
   "execution_count": null,
   "metadata": {},
   "outputs": [],
   "source": [
    "stock_unit_df.filter(pl.col(\"dsu_sale_price\") < 1).filter(\n",
    "    pl.col(\"dsu_group\") == \"COMBINES\"\n",
    ").shape[0] / stock_unit_df.filter(pl.col(\"dsu_group\") == \"COMBINES\").shape[0]"
   ]
  },
  {
   "cell_type": "code",
   "execution_count": null,
   "metadata": {},
   "outputs": [],
   "source": [
    "stock_unit_df.filter(pl.col(\"dsu_sale_price\") < 1).filter(\n",
    "    pl.col(\"dsu_group\") == \"ROW CROP TRACTOR\"\n",
    ").filter(~pl.col(\"dsu_invoice_number\").is_in([\"NOTAVA\", \"EQPADD\", \"N/A\"])).shape[\n",
    "    0\n",
    "] / stock_unit_df.filter(\n",
    "    pl.col(\"dsu_group\") == \"ROW CROP TRACTOR\"\n",
    ").filter(\n",
    "    ~pl.col(\"dsu_invoice_number\").is_in([\"NOTAVA\", \"EQPADD\", \"N/A\"])\n",
    ").shape[\n",
    "    0\n",
    "]"
   ]
  },
  {
   "cell_type": "code",
   "execution_count": null,
   "metadata": {},
   "outputs": [],
   "source": [
    "stock_unit_df.filter(pl.col(\"dsu_sale_price\") < 1).filter(\n",
    "    pl.col(\"dsu_group\") == \"COMBINES\"\n",
    ").filter(~pl.col(\"dsu_invoice_number\").is_in([\"NOTAVA\", \"EQPADD\", \"N/A\"])).shape[\n",
    "    0\n",
    "] / stock_unit_df.filter(\n",
    "    pl.col(\"dsu_group\") == \"COMBINES\"\n",
    ").filter(\n",
    "    ~pl.col(\"dsu_invoice_number\").is_in([\"NOTAVA\", \"EQPADD\", \"N/A\"])\n",
    ").shape[\n",
    "    0\n",
    "]"
   ]
  },
  {
   "cell_type": "markdown",
   "metadata": {},
   "source": [
    "## Service Work Orders"
   ]
  },
  {
   "cell_type": "code",
   "execution_count": null,
   "metadata": {},
   "outputs": [],
   "source": [
    "service_requests_df = translate_csv_to_common_model(\n",
    "    \"data/dealers/koenig/service-requests.csv\",\n",
    "    \"koenig\",\n",
    "    \"./src/transformation/semantic_layer.json\",\n",
    "    \"service_requests\",\n",
    ")\n",
    "service_requests_df = translate_koenig_service_requests(service_requests_df)\n",
    "service_requests_df.head()"
   ]
  },
  {
   "cell_type": "code",
   "execution_count": null,
   "metadata": {},
   "outputs": [],
   "source": [
    "len(service_requests_df)"
   ]
  },
  {
   "cell_type": "code",
   "execution_count": null,
   "metadata": {},
   "outputs": [],
   "source": [
    "# group by year and count\n",
    "service_requests_df[\"service_close_date\"].dt.year().value_counts().sort(\n",
    "    by=\"service_close_date\", descending=False\n",
    ")"
   ]
  },
  {
   "cell_type": "code",
   "execution_count": null,
   "metadata": {},
   "outputs": [],
   "source": [
    "1 / 30"
   ]
  },
  {
   "cell_type": "code",
   "execution_count": null,
   "metadata": {},
   "outputs": [],
   "source": [
    "service_requests_df[\"service_close_date\"].dt.year().value_counts().mean()"
   ]
  },
  {
   "cell_type": "code",
   "execution_count": null,
   "metadata": {},
   "outputs": [],
   "source": [
    "service_requests_df[\"service_invoice_value\"].sum()"
   ]
  },
  {
   "cell_type": "code",
   "execution_count": null,
   "metadata": {},
   "outputs": [],
   "source": [
    "service_requests_df[\"service_invoice_value\"].mean()"
   ]
  },
  {
   "cell_type": "code",
   "execution_count": null,
   "metadata": {},
   "outputs": [],
   "source": [
    "sns.histplot(x=\"service_close_date\", data=service_requests_df.to_pandas())\n",
    "plt.ylabel(\"Count of Service Requests\")\n",
    "plt.xlabel(\"Service Close Date\")"
   ]
  },
  {
   "cell_type": "code",
   "execution_count": null,
   "metadata": {},
   "outputs": [],
   "source": [
    "import matplotlib.dates as mdates\n",
    "\n",
    "service_requests_monthly_df = service_requests_df.group_by(\n",
    "    service_requests_df[\"service_close_date\"].dt.strftime(\"%Y-%m\").alias(\"service_close_month\").str.to_date(\"%Y-%m\")\n",
    ").agg(\n",
    "    pl.count(\"service_order_id\").alias(\"count\"),\n",
    "    pl.sum(\"service_invoice_value\").alias(\"sum\"),\n",
    ")\n",
    "\n",
    "plt.Figure(figsize=(10, 6))\n",
    "ax = sns.lineplot(\n",
    "    x=\"service_close_month\", y=\"count\", data=service_requests_monthly_df.to_pandas()\n",
    ")\n",
    "plt.ylabel(\"Count of Service Requests\")\n",
    "plt.xlabel(\"Service Close Date\")\n",
    "\n",
    "# Set x-ticks to every 6 months\n",
    "plt.xticks(rotation=45)\n",
    "ax.xaxis.set_major_locator(mdates.MonthLocator(interval=6))\n",
    "plt.show()"
   ]
  },
  {
   "cell_type": "code",
   "execution_count": null,
   "metadata": {},
   "outputs": [],
   "source": [
    "service_requests_monthly_df.head()"
   ]
  },
  {
   "cell_type": "code",
   "execution_count": 322,
   "metadata": {},
   "outputs": [],
   "source": [
    "from statsmodels.tsa.seasonal import seasonal_decompose\n",
    "\n",
    "result = seasonal_decompose(\n",
    "    service_requests_monthly_df[\"count\"], model=\"multiplicative\", period=12\n",
    ")"
   ]
  },
  {
   "cell_type": "code",
   "execution_count": null,
   "metadata": {},
   "outputs": [],
   "source": [
    "result.plot()\n",
    "plt.show()"
   ]
  },
  {
   "cell_type": "code",
   "execution_count": null,
   "metadata": {},
   "outputs": [],
   "source": [
    "sns.kdeplot(x=\"service_invoice_value\", data=service_requests_df.to_pandas())"
   ]
  },
  {
   "cell_type": "code",
   "execution_count": null,
   "metadata": {},
   "outputs": [],
   "source": [
    "service_requests_df.filter(pl.col(\"service_invoice_value\") < 0).shape[0] / service_requests_df.shape[0]"
   ]
  },
  {
   "cell_type": "code",
   "execution_count": null,
   "metadata": {},
   "outputs": [],
   "source": [
    "service_requests_account_df = account_df.join(\n",
    "    stock_unit_df[[\"dealer_stock_unit_id\", \"dsu_account_id\"]],\n",
    "    left_on=\"account_id\",\n",
    "    right_on=\"dsu_account_id\",\n",
    "    how=\"left\",\n",
    ").join(\n",
    "    service_requests_df[[\"service_order_id\", \"service_dealer_stock_unit_id\", \"service_invoice_value\"]],\n",
    "    left_on=\"dealer_stock_unit_id\",\n",
    "    right_on=\"service_dealer_stock_unit_id\",\n",
    "    how=\"right\",\n",
    ")\n",
    "service_requests_account_df = service_requests_account_df.group_by(\"account_id\").agg(\n",
    "    [\n",
    "        pl.sum(\"service_invoice_value\").alias(\"total_invoice_value\"),\n",
    "        pl.count(\"service_order_id\").alias(\"total_service_requests\"),\n",
    "        pl.first(\"customer_segment\").alias(\"customer_segment\"),\n",
    "        pl.first(\"type_of_equipment\").alias(\"type_of_equipment\"),\n",
    "        pl.first(\"customer_loyalty\").alias(\"customer_loyalty\"),\n",
    "        pl.first(\"customer_business_class\").alias(\"customer_business_class\"),\n",
    "        pl.first(\"engagement_level\").alias(\"engagement_level\"),\n",
    "    ]\n",
    ")\n",
    "\n",
    "service_requests_account_df = service_requests_account_df.with_columns(\n",
    "    pl.col(\"total_invoice_value\").fill_null(0),\n",
    "    pl.col(\"total_service_requests\").fill_null(0),\n",
    ")\n",
    "service_requests_account_df.head()"
   ]
  },
  {
   "cell_type": "code",
   "execution_count": null,
   "metadata": {},
   "outputs": [],
   "source": [
    "service_requests_account_df.sort(by=\"total_invoice_value\", descending=True).head()"
   ]
  },
  {
   "cell_type": "code",
   "execution_count": null,
   "metadata": {},
   "outputs": [],
   "source": [
    "service_requests_account_df.filter(pl.col(\"customer_business_class\") == \"A - Strategic Account\")[\"total_invoice_value\"].sum()"
   ]
  },
  {
   "cell_type": "code",
   "execution_count": null,
   "metadata": {},
   "outputs": [],
   "source": [
    "service_requests_account_df.group_by(\"customer_segment\").agg(\n",
    "    pl.sum(\"total_invoice_value\"), pl.sum(\"total_service_requests\"), pl.mean(\"total_invoice_value\").alias(\"average_invoice_value\")\n",
    ").sort(by=\"total_invoice_value\", descending=True)"
   ]
  },
  {
   "cell_type": "code",
   "execution_count": null,
   "metadata": {},
   "outputs": [],
   "source": [
    "5.9003e7 / 120385000"
   ]
  },
  {
   "cell_type": "code",
   "execution_count": null,
   "metadata": {},
   "outputs": [],
   "source": [
    "from sklearn.model_selection import train_test_split\n",
    "from sklearn.preprocessing import StandardScaler\n",
    "from sklearn.neighbors import KNeighborsClassifier\n",
    "from sklearn.metrics import classification_report, confusion_matrix\n",
    "\n",
    "# Prepare the data\n",
    "features = account_level_df.filter(pl.col(\"customer_segment\") == \"Cash Grain\").filter(pl.col(\"customer_business_class\").is_not_null()).select([\"total_units\", \"total_sale_amount\", \"average_equipment_age\"]).to_pandas()\n",
    "target = (\n",
    "    account_level_df.filter(pl.col(\"customer_segment\") == \"Cash Grain\")\n",
    "    .filter(pl.col(\"customer_business_class\").is_not_null())[\"customer_business_class\"]\n",
    "    .to_pandas()\n",
    ")\n",
    "# convert target to numeric\n",
    "target = pd.Categorical(target)\n",
    "\n",
    "# Handle missing values\n",
    "features = features.fillna(features.mean())\n",
    "\n",
    "\n",
    "# Split the data into training and testing sets\n",
    "X_train, X_test, y_train, y_test = train_test_split(features, target, test_size=0.2, random_state=69)\n",
    "\n",
    "# Standardize the features\n",
    "scaler = StandardScaler()\n",
    "X_train = scaler.fit_transform(X_train)\n",
    "X_test = scaler.transform(X_test)\n",
    "\n",
    "# Create and train the KNN classifier\n",
    "knn = KNeighborsClassifier(n_neighbors=5)\n",
    "knn.fit(X_train, y_train)\n",
    "\n",
    "# Make predictions\n",
    "y_pred = knn.predict(X_test)\n",
    "\n",
    "# Evaluate the model\n",
    "print(confusion_matrix(y_test, y_pred))\n",
    "print(classification_report(y_test, y_pred))"
   ]
  },
  {
   "cell_type": "code",
   "execution_count": null,
   "metadata": {},
   "outputs": [],
   "source": [
    "len(\n",
    "    account_level_df.filter(pl.col(\"customer_segment\") == \"Cash Grain\").filter(\n",
    "        pl.col(\"customer_business_class\").is_not_null()\n",
    "    )\n",
    ")"
   ]
  },
  {
   "cell_type": "code",
   "execution_count": null,
   "metadata": {},
   "outputs": [],
   "source": [
    "len(\n",
    "    account_df.filter(pl.col(\"customer_segment\") == \"Cash Grain\").filter(\n",
    "        pl.col(\"customer_business_class\").is_not_null()\n",
    "    )\n",
    ")"
   ]
  },
  {
   "cell_type": "code",
   "execution_count": null,
   "metadata": {},
   "outputs": [],
   "source": [
    "features = (\n",
    "    account_level_df.filter(pl.col(\"customer_segment\") == \"Cash Grain\")\n",
    "    .select(\n",
    "        [\n",
    "            \"account_id\",\n",
    "            \"total_units\",\n",
    "            \"total_sale_amount\",\n",
    "            \"average_equipment_age\",\n",
    "            \"customer_business_class\",\n",
    "        ]\n",
    "    )\n",
    "    .to_pandas()\n",
    ")\n",
    "# fill na values with mean for total_units, total_sale_amount, and average_equipment_age but not for customer_business_class or account_id\n",
    "features[[\"total_units\", \"total_sale_amount\", \"average_equipment_age\"]] = features[\n",
    "    [\"total_units\", \"total_sale_amount\", \"average_equipment_age\"]\n",
    "].fillna(features[[\"total_units\", \"total_sale_amount\", \"average_equipment_age\"]].mean())\n",
    "\n",
    "preds = knn.predict(scaler.transform(features[['total_units', 'total_sale_amount', 'average_equipment_age']]))\n",
    "features[\"predicted_business_class\"] = preds\n",
    "features.head()"
   ]
  },
  {
   "cell_type": "code",
   "execution_count": null,
   "metadata": {},
   "outputs": [],
   "source": [
    "features.loc[features[\"customer_business_class\"] != features[\"predicted_business_class\"]].sort_values(by=\"total_sale_amount\", ascending=False)"
   ]
  },
  {
   "cell_type": "code",
   "execution_count": null,
   "metadata": {},
   "outputs": [],
   "source": [
    "features.loc[\n",
    "    (features[\"customer_business_class\"].isin([\"R - Relationship Account\"]))\n",
    "    & (features[\"predicted_business_class\"].isin([\"A - Strategic Account\"]))\n",
    "].sort_values(by=\"total_sale_amount\", ascending=False)"
   ]
  },
  {
   "cell_type": "code",
   "execution_count": null,
   "metadata": {},
   "outputs": [],
   "source": [
    "features.loc[\n",
    "    (features[\"customer_business_class\"].isin([\"A - Strategic Account\"]))\n",
    "    & (features[\"predicted_business_class\"].isin([\"R - Relationship Account\"]))\n",
    "].sort_values(by=\"total_sale_amount\", ascending=False)"
   ]
  },
  {
   "cell_type": "code",
   "execution_count": null,
   "metadata": {},
   "outputs": [],
   "source": [
    "import numpy as np\n",
    "trailing_6_months = [280.31, 269.30, 276.29, 277.64, 268.65, 277.77]\n",
    "# calculate the average, min, and max and 6 month forcast\n",
    "average = sum(trailing_6_months) / len(trailing_6_months)\n",
    "min_value = min(trailing_6_months)\n",
    "max_value = max(trailing_6_months)\n",
    "# Calculate the monthly increase trend\n",
    "monthly_increase_trend = [(trailing_6_months[i] - trailing_6_months[i - 1]) for i in range(1, len(trailing_6_months))]\n",
    "\n",
    "\n",
    "print(f\"Average: {average}, Min: {min_value}, Max: {max_value}, Monthly Increase Trend: {np.mean(monthly_increase_trend)}\")"
   ]
  },
  {
   "cell_type": "code",
   "execution_count": null,
   "metadata": {},
   "outputs": [],
   "source": [
    "import numpy as np\n",
    "\n",
    "trailing_6_months = [10.49, 82.89, 411.01, 99.92, 93.46, 1063.70]\n",
    "# calculate the average, min, and max and 6 month forcast\n",
    "average = sum(trailing_6_months) / len(trailing_6_months)\n",
    "min_value = min(trailing_6_months)\n",
    "max_value = max(trailing_6_months)\n",
    "# Calculate the monthly increase trend\n",
    "monthly_increase_trend = [\n",
    "    (trailing_6_months[i] - trailing_6_months[i - 1])\n",
    "    for i in range(1, len(trailing_6_months))\n",
    "]\n",
    "\n",
    "\n",
    "print(\n",
    "    f\"Average: {average}, Min: {min_value}, Max: {max_value}, Monthly Increase Trend: {np.mean(monthly_increase_trend)}\"\n",
    ")"
   ]
  },
  {
   "cell_type": "code",
   "execution_count": null,
   "metadata": {},
   "outputs": [],
   "source": [
    "from sklearn.linear_model import LinearRegression\n",
    "import numpy as np\n",
    "\n",
    "# Prepare the data\n",
    "X = np.arange(len(trailing_6_months)).reshape(-1, 1)\n",
    "y = np.array(trailing_6_months[::-1])\n",
    "\n",
    "# Create and train the model\n",
    "model = LinearRegression()\n",
    "model.fit(X, y)\n",
    "\n",
    "# Make predictions\n",
    "trend = model.predict(X)\n",
    "\n",
    "# Print the coefficients\n",
    "print(f\"Intercept: {model.intercept_}, Slope: {model.coef_[0]}\")\n",
    "\n",
    "# Plot the results\n",
    "plt.figure(figsize=(10, 6))\n",
    "plt.plot(X, y, 'o', label='Original data')\n",
    "plt.plot(X, trend, 'r', label='Fitted line')\n",
    "plt.xlabel('Month')\n",
    "plt.ylabel('Value')\n",
    "plt.title('Trend in Trailing 6 Months')\n",
    "plt.legend()\n",
    "plt.show()"
   ]
  },
  {
   "cell_type": "code",
   "execution_count": null,
   "metadata": {},
   "outputs": [],
   "source": [
    "171211 / 373298     "
   ]
  }
 ],
 "metadata": {
  "kernelspec": {
   "display_name": "lead-gen",
   "language": "python",
   "name": "python3"
  },
  "language_info": {
   "codemirror_mode": {
    "name": "ipython",
    "version": 3
   },
   "file_extension": ".py",
   "mimetype": "text/x-python",
   "name": "python",
   "nbconvert_exporter": "python",
   "pygments_lexer": "ipython3",
   "version": "3.12.2"
  }
 },
 "nbformat": 4,
 "nbformat_minor": 2
}
