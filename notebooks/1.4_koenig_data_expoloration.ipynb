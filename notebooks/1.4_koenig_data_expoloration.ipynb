{
 "cells": [
  {
   "cell_type": "markdown",
   "metadata": {},
   "source": [
    "# Koenig Data Exploration\n",
    "\n",
    "Reviewing the data inside of Koenig's instance for issues, missing data, and analytics/modeling viability"
   ]
  },
  {
   "cell_type": "code",
   "execution_count": null,
   "metadata": {},
   "outputs": [],
   "source": [
    "%load_ext dotenv\n",
    "%dotenv\n",
    "%load_ext autoreload\n",
    "%autoreload 2"
   ]
  },
  {
   "cell_type": "code",
   "execution_count": null,
   "metadata": {},
   "outputs": [],
   "source": [
    "import matplotlib.pyplot as plt\n",
    "import pandas as pd\n",
    "import polars as pl\n",
    "import seaborn as sns\n",
    "\n",
    "from src.transformation.translate import (\n",
    "    translate_csv_to_common_model,\n",
    "    translate_keonig_customer_equipment,\n",
    "    translate_koenig_account_columns,\n",
    "    translate_koenig_purchase_orders,\n",
    "    translate_koenig_service_requests,\n",
    "    translate_koenig_stock_unit,\n",
    "    translate_koenig_store,\n",
    "    translate_koenig_user,\n",
    ")\n",
    "from src.transformation.category import CleanMakeModelData"
   ]
  },
  {
   "cell_type": "markdown",
   "metadata": {},
   "source": [
    "## Account"
   ]
  },
  {
   "cell_type": "code",
   "execution_count": null,
   "metadata": {},
   "outputs": [],
   "source": [
    "account_df = translate_csv_to_common_model(\"data/dealers/koenig/account.csv\", \"koenig\", \"./src/transformation/semantic_layer.json\", \"account\")\n",
    "account_df = translate_koenig_account_columns(account_df)\n",
    "account_df.head()"
   ]
  },
  {
   "cell_type": "code",
   "execution_count": null,
   "metadata": {},
   "outputs": [],
   "source": [
    "len(account_df)"
   ]
  },
  {
   "cell_type": "code",
   "execution_count": null,
   "metadata": {},
   "outputs": [],
   "source": [
    "account_df[\"county\"].value_counts().sort(\"count\", descending=True)"
   ]
  },
  {
   "cell_type": "code",
   "execution_count": null,
   "metadata": {},
   "outputs": [],
   "source": [
    "account_df[\"aor_customer\"].value_counts().sort(\"count\", descending=True)"
   ]
  },
  {
   "cell_type": "code",
   "execution_count": null,
   "metadata": {},
   "outputs": [],
   "source": [
    "account_df[\"primary_store_location\"].value_counts().sort(\"count\", descending=True)"
   ]
  },
  {
   "cell_type": "code",
   "execution_count": null,
   "metadata": {},
   "outputs": [],
   "source": [
    "account_df[\"primary_store_location\"].n_unique()"
   ]
  },
  {
   "cell_type": "markdown",
   "metadata": {},
   "source": [
    "17 different where one is null 16 total locations. Koenig has 15 locations listed so that 16th one is probably corporate"
   ]
  },
  {
   "cell_type": "code",
   "execution_count": null,
   "metadata": {},
   "outputs": [],
   "source": [
    "len(account_df.filter(pl.col(\"parent_id\").is_not_null())) / len(account_df)"
   ]
  },
  {
   "cell_type": "code",
   "execution_count": null,
   "metadata": {},
   "outputs": [],
   "source": [
    "# desribe the engagement_level\n",
    "account_df[\"engagement_level\"].value_counts().sort(\"count\", descending=True)"
   ]
  },
  {
   "cell_type": "code",
   "execution_count": null,
   "metadata": {},
   "outputs": [],
   "source": [
    "account_df[\"technology_rep\"].value_counts().sort(\"count\", descending=True)"
   ]
  },
  {
   "cell_type": "code",
   "execution_count": null,
   "metadata": {},
   "outputs": [],
   "source": [
    "account_df[\"customer_segment\"].value_counts().sort(\"count\", descending=True)"
   ]
  },
  {
   "cell_type": "code",
   "execution_count": null,
   "metadata": {},
   "outputs": [],
   "source": [
    "len(account_df.filter(pl.col(\"customer_segment\").is_not_null())) / len(account_df)"
   ]
  },
  {
   "cell_type": "markdown",
   "metadata": {},
   "source": [
    "Only 22% of accounts have a segment associated with them"
   ]
  },
  {
   "cell_type": "code",
   "execution_count": null,
   "metadata": {},
   "outputs": [],
   "source": [
    "sns.histplot(x=\"customer_segment\", data=account_df.to_pandas())\n",
    "plt.title(\"Customer Segment Distribution\")\n",
    "plt.xticks(rotation=90)\n",
    "plt.ylabel(\"\")\n",
    "plt.xlabel(\"\")"
   ]
  },
  {
   "cell_type": "code",
   "execution_count": null,
   "metadata": {},
   "outputs": [],
   "source": [
    "sns.histplot(x=\"type_of_equipment\", data=account_df.to_pandas())\n",
    "plt.title(\"Type of Equipment\")\n",
    "plt.ylabel(\"\")\n",
    "plt.xlabel(\"\")"
   ]
  },
  {
   "cell_type": "code",
   "execution_count": null,
   "metadata": {},
   "outputs": [],
   "source": [
    "account_df[\"type_of_equipment\"].value_counts().sort(\"count\", descending=True)"
   ]
  },
  {
   "cell_type": "code",
   "execution_count": null,
   "metadata": {},
   "outputs": [],
   "source": [
    "account_df[\"customer_loyalty\"].value_counts().sort(\"count\", descending=True)"
   ]
  },
  {
   "cell_type": "code",
   "execution_count": null,
   "metadata": {},
   "outputs": [],
   "source": [
    "customer_loyalty_counts = account_df[\"customer_loyalty\"].value_counts().sort(\"count\", descending=True).to_pandas()\n",
    "sns.barplot(x=\"customer_loyalty\", y=\"count\", data=customer_loyalty_counts)\n",
    "plt.title(\"Customer Loyalty\")\n",
    "plt.xticks(rotation=90)\n",
    "plt.ylabel(\"\")\n",
    "plt.xlabel(\"\")"
   ]
  },
  {
   "cell_type": "code",
   "execution_count": null,
   "metadata": {},
   "outputs": [],
   "source": [
    "len(account_df.filter(pl.col(\"customer_loyalty\").is_not_null())) / len(account_df)"
   ]
  },
  {
   "cell_type": "code",
   "execution_count": null,
   "metadata": {},
   "outputs": [],
   "source": [
    "len(account_df.filter(pl.col(\"call_frequency\").is_not_null())) / len(account_df)"
   ]
  },
  {
   "cell_type": "code",
   "execution_count": null,
   "metadata": {},
   "outputs": [],
   "source": [
    "customer_call_frequency_df = (\n",
    "    account_df[\"call_frequency\"]\n",
    "    .value_counts()\n",
    "    .sort(\"count\", descending=True)\n",
    "    .to_pandas()\n",
    ")\n",
    "sns.barplot(x=\"call_frequency\", y=\"count\", data=customer_call_frequency_df)\n",
    "plt.title(\"Customer Call Frequency\")\n",
    "plt.xticks(rotation=90)\n",
    "plt.ylabel(\"\")\n",
    "plt.xlabel(\"\")"
   ]
  },
  {
   "cell_type": "code",
   "execution_count": null,
   "metadata": {},
   "outputs": [],
   "source": [
    "account_df[\"customer_business_class\"].value_counts().sort(\"count\", descending=True)"
   ]
  },
  {
   "cell_type": "code",
   "execution_count": null,
   "metadata": {},
   "outputs": [],
   "source": [
    "customer_business_class_df = (\n",
    "    account_df[\"customer_business_class\"]\n",
    "    .value_counts()\n",
    "    .sort(\"count\", descending=True)\n",
    "    .to_pandas()\n",
    ")\n",
    "sns.barplot(x=\"customer_business_class\", y=\"count\", data=customer_business_class_df)\n",
    "plt.title(\"Customer Business Class\")\n",
    "plt.xticks(rotation=90)\n",
    "plt.ylabel(\"\")\n",
    "plt.xlabel(\"\")"
   ]
  },
  {
   "cell_type": "code",
   "execution_count": null,
   "metadata": {},
   "outputs": [],
   "source": [
    "len(account_df.filter(pl.col(\"customer_business_class\").is_null())) / len(\n",
    "    account_df\n",
    ")"
   ]
  },
  {
   "cell_type": "code",
   "execution_count": null,
   "metadata": {},
   "outputs": [],
   "source": [
    "customer_engagement_level_df = (\n",
    "    account_df[\"engagement_level\"]\n",
    "    .value_counts()\n",
    "    .sort(\"count\", descending=True)\n",
    "    .to_pandas()\n",
    ")\n",
    "sns.barplot(x=\"engagement_level\", y=\"count\", data=customer_engagement_level_df)\n",
    "plt.title(\"Customer Engagement\")\n",
    "plt.xticks(rotation=90)\n",
    "plt.ylabel(\"\")\n",
    "plt.xlabel(\"\")"
   ]
  },
  {
   "cell_type": "code",
   "execution_count": null,
   "metadata": {},
   "outputs": [],
   "source": [
    "len(account_df.filter(pl.col(\"engagement_level\").is_null())) / len(account_df)"
   ]
  },
  {
   "cell_type": "code",
   "execution_count": null,
   "metadata": {},
   "outputs": [],
   "source": [
    "len(account_df.filter(pl.col(\"billing_postal_code\").is_null())) / len(account_df)"
   ]
  },
  {
   "cell_type": "code",
   "execution_count": null,
   "metadata": {},
   "outputs": [],
   "source": [
    "account_df[\"billing_postal_code\"].drop_nulls().to_pandas().apply(lambda x: len(x)).value_counts().sort_values(ascending=False)"
   ]
  },
  {
   "cell_type": "markdown",
   "metadata": {},
   "source": [
    "5 digit zip codes are the typical with 9 being the complete (minus hyphen). Assuming most of the 10 digit ones have a hyphen"
   ]
  },
  {
   "cell_type": "markdown",
   "metadata": {},
   "source": [
    "## Dealer Stock Unit"
   ]
  },
  {
   "cell_type": "code",
   "execution_count": null,
   "metadata": {},
   "outputs": [],
   "source": [
    "stock_unit_df = translate_csv_to_common_model(\n",
    "    \"data/dealers/koenig/dealer-stock-unit.csv\",\n",
    "    \"koenig\",\n",
    "    \"./src/transformation/semantic_layer.json\",\n",
    "    \"dealer_stock_unit\",\n",
    ")\n",
    "stock_unit_df = translate_koenig_stock_unit(stock_unit_df)\n",
    "stock_unit_df.head()"
   ]
  },
  {
   "cell_type": "code",
   "execution_count": null,
   "metadata": {},
   "outputs": [],
   "source": [
    "stock_unit_df.filter((pl.col(\"dsu_make\") == \"JD\") & (pl.col(\"dsu_model\") == \"DT75\"))"
   ]
  },
  {
   "cell_type": "code",
   "execution_count": null,
   "metadata": {},
   "outputs": [],
   "source": [
    "stock_unit_df.filter((pl.col(\"dsu_make\") == \"JD\") & (pl.col(\"dsu_model\") == \"1775\"))[\"dsu_group\"].value_counts().sort(\"count\", descending=True)"
   ]
  },
  {
   "cell_type": "code",
   "execution_count": null,
   "metadata": {},
   "outputs": [],
   "source": [
    "clean_make_model.make_model_data.filter(pl.col(\"make\") == \"John Deere\").filter(pl.col(\"model\") == \"4010\")"
   ]
  },
  {
   "cell_type": "code",
   "execution_count": null,
   "metadata": {},
   "outputs": [],
   "source": [
    "clean_make_model = CleanMakeModelData()\n",
    "clean_make_model.create_aggregated_data(stock_unit_df, make_col=\"dsu_make\", model_col=\"dsu_model\", group_col=\"dsu_group\")"
   ]
  },
  {
   "cell_type": "code",
   "execution_count": null,
   "metadata": {},
   "outputs": [],
   "source": [
    "clean_make_model.make_model_data.filter(pl.col(\"make\") == \"John Deere\").filter(\n",
    "    pl.col(\"model\").str.to_lowercase().str.contains(\"75\".lower())\n",
    ")"
   ]
  },
  {
   "cell_type": "code",
   "execution_count": null,
   "metadata": {},
   "outputs": [],
   "source": [
    "clean_make_model.aggregated_data.filter(pl.col(\"category\") == \"Unknown\")"
   ]
  },
  {
   "cell_type": "code",
   "execution_count": null,
   "metadata": {},
   "outputs": [],
   "source": [
    "clean_make_model.aggregated_data.filter(pl.col(\"model\") == \"1775\")"
   ]
  },
  {
   "cell_type": "code",
   "execution_count": null,
   "metadata": {},
   "outputs": [],
   "source": [
    "clean_make_model.clean_make_model_data(\"JD\", \"15GA\", \"GRAIN HAULING\")"
   ]
  },
  {
   "cell_type": "code",
   "execution_count": 31,
   "metadata": {},
   "outputs": [],
   "source": [
    "# update datetime columns to datetime type\n",
    "updated_df = updated_df.with_columns(\n",
    "    **{col: pl.col(col).str.to_date(format=\"%Y-%m-%d\", strict=False) for col in date_cols},\n",
    ")"
   ]
  },
  {
   "cell_type": "code",
   "execution_count": null,
   "metadata": {},
   "outputs": [],
   "source": [
    "updated_df.head()"
   ]
  },
  {
   "cell_type": "code",
   "execution_count": null,
   "metadata": {},
   "outputs": [],
   "source": [
    "stock_unit_df = translate_koenig_stock_unit(stock_unit_df)\n",
    "stock_unit_df.head()"
   ]
  },
  {
   "cell_type": "code",
   "execution_count": null,
   "metadata": {},
   "outputs": [],
   "source": [
    "stock_unit_df.filter(pl.col(\"dsu_sales_date\").is_null()).shape[0] / stock_unit_df.shape[0]"
   ]
  },
  {
   "cell_type": "code",
   "execution_count": null,
   "metadata": {},
   "outputs": [],
   "source": [
    "stock_unit_df.filter(pl.col(\"dealer_stock_unit_id\") == \"a065f000003fI2WAAU\")"
   ]
  },
  {
   "cell_type": "code",
   "execution_count": null,
   "metadata": {},
   "outputs": [],
   "source": [
    "stock_unit_df.filter(pl.col(\"dsu_sales_date\").is_not_null()).sort(\n",
    "    by=\"dsu_sales_date\", descending=False,\n",
    ").head()"
   ]
  },
  {
   "cell_type": "code",
   "execution_count": null,
   "metadata": {},
   "outputs": [],
   "source": [
    "sns.histplot(x=\"dsu_sales_date\", data=stock_unit_df.to_pandas())"
   ]
  },
  {
   "cell_type": "code",
   "execution_count": null,
   "metadata": {},
   "outputs": [],
   "source": [
    "most_common_sold_date = stock_unit_df.to_pandas()[\"dsu_sales_date\"].value_counts().idxmax()\n",
    "print(f\"The most common dsu_sales_date is: {most_common_sold_date}\")"
   ]
  },
  {
   "cell_type": "code",
   "execution_count": null,
   "metadata": {},
   "outputs": [],
   "source": [
    "filtered_df = stock_unit_df.filter(pl.col(\"dsu_sales_date\") == most_common_sold_date)\n",
    "filtered_df.head()"
   ]
  },
  {
   "cell_type": "code",
   "execution_count": null,
   "metadata": {},
   "outputs": [],
   "source": [
    "sns.histplot(x=\"dsu_model_year\", data=stock_unit_df.to_pandas())"
   ]
  },
  {
   "cell_type": "code",
   "execution_count": null,
   "metadata": {},
   "outputs": [],
   "source": [
    "sns.histplot(x=\"dsu_model_year\", data=stock_unit_df.filter(pl.col(\"dsu_model_year\") != 0).to_pandas())"
   ]
  },
  {
   "cell_type": "code",
   "execution_count": null,
   "metadata": {},
   "outputs": [],
   "source": [
    "len(stock_unit_df.filter(pl.col(\"dsu_model_year\").is_not_null())) / stock_unit_df.shape[0]"
   ]
  },
  {
   "cell_type": "code",
   "execution_count": null,
   "metadata": {},
   "outputs": [],
   "source": [
    "len(stock_unit_df.filter(pl.col(\"dsu_model_year\") == 0)) / stock_unit_df.shape[0]"
   ]
  },
  {
   "cell_type": "code",
   "execution_count": null,
   "metadata": {},
   "outputs": [],
   "source": [
    "len(\n",
    "    stock_unit_df.filter(pl.col(\"dsu_serial_number\").is_not_null()),\n",
    ") / stock_unit_df.shape[0]"
   ]
  },
  {
   "cell_type": "code",
   "execution_count": null,
   "metadata": {},
   "outputs": [],
   "source": [
    "len(stock_unit_df.filter(pl.col(\"dsu_new_used\").is_not_null())) / stock_unit_df.shape[0]"
   ]
  },
  {
   "cell_type": "code",
   "execution_count": null,
   "metadata": {},
   "outputs": [],
   "source": [
    "sns.histplot(x=\"dsu_new_used\", data=stock_unit_df.to_pandas())"
   ]
  },
  {
   "cell_type": "code",
   "execution_count": null,
   "metadata": {},
   "outputs": [],
   "source": [
    "len(stock_unit_df.filter(pl.col(\"dsu_sub_group\").is_not_null())) / stock_unit_df.shape[\n",
    "    0\n",
    "]"
   ]
  },
  {
   "cell_type": "code",
   "execution_count": null,
   "metadata": {},
   "outputs": [],
   "source": [
    "sns.histplot(x=\"dsu_sub_group\", data=stock_unit_df.to_pandas())\n",
    "plt.xticks(rotation=90)"
   ]
  },
  {
   "cell_type": "code",
   "execution_count": null,
   "metadata": {},
   "outputs": [],
   "source": [
    "len(\n",
    "    stock_unit_df.filter(pl.col(\"dsu_hours_or_units\").is_not_null()),\n",
    ") / stock_unit_df.shape[0]"
   ]
  },
  {
   "cell_type": "code",
   "execution_count": null,
   "metadata": {},
   "outputs": [],
   "source": [
    "len(\n",
    "    stock_unit_df.filter(pl.col(\"dsu_hours_or_units\") == 0),\n",
    ") / stock_unit_df.shape[0]"
   ]
  },
  {
   "cell_type": "code",
   "execution_count": null,
   "metadata": {},
   "outputs": [],
   "source": [
    "sns.histplot(\n",
    "    x=\"dsu_hours_or_units\",\n",
    "    data=stock_unit_df.filter(pl.col(\"dsu_hours_or_units\") != 0).to_pandas(),\n",
    ")"
   ]
  },
  {
   "cell_type": "code",
   "execution_count": null,
   "metadata": {},
   "outputs": [],
   "source": [
    "stock_unit_df.filter(pl.col(\"dsu_hours_or_units\").is_not_null()).sort(\n",
    "    by=\"dsu_hours_or_units\", descending=True,\n",
    ").head()"
   ]
  },
  {
   "cell_type": "code",
   "execution_count": null,
   "metadata": {},
   "outputs": [],
   "source": [
    "sns.histplot(\n",
    "    x=\"dsu_hours_or_units\",\n",
    "    data=stock_unit_df.filter(pl.col(\"dsu_hours_or_units\") != 0).filter(pl.col(\"dsu_hours_or_units\") < 15000).to_pandas(),\n",
    ")"
   ]
  },
  {
   "cell_type": "code",
   "execution_count": null,
   "metadata": {},
   "outputs": [],
   "source": [
    "len(stock_unit_df.filter(pl.col(\"dsu_hours_or_units\") < 15000).filter(pl.col(\"dsu_hours_or_units\") != 0)) / stock_unit_df.shape[0]"
   ]
  },
  {
   "cell_type": "code",
   "execution_count": null,
   "metadata": {},
   "outputs": [],
   "source": [
    "types = stock_unit_df.dtypes\n",
    "columns = stock_unit_df.columns\n",
    "print([f\"{columns[i]}: {types[i]}\" for i in range(len(columns))])"
   ]
  },
  {
   "cell_type": "code",
   "execution_count": 245,
   "metadata": {},
   "outputs": [],
   "source": [
    "def eda_polars(df: pl.DataFrame) -> pl.DataFrame:\n",
    "    results = []\n",
    "\n",
    "    # Rate of missing data\n",
    "    missing_data = {col: df[col].null_count() / df.height for col in df.columns}\n",
    "\n",
    "    for col in df.columns:\n",
    "        if col == \"_\":\n",
    "            continue\n",
    "        col_data = {\n",
    "            \"field_name\": col,\n",
    "            \"missing_data_rate\": missing_data[col],\n",
    "        }\n",
    "        if df[col].dtype == pl.Int32 or df[col].dtype == pl.Float64 or df[col].dtype == pl.Int64:  # Checks for numeric types\n",
    "            col_data.update({\n",
    "                \"mean\": df[col].mean(),\n",
    "                \"std\": df[col].std(),\n",
    "                \"min\": df[col].min(),\n",
    "                \"max\": df[col].max(),\n",
    "                \"median\": df[col].median(),\n",
    "                \"25th_percentile\": df[col].quantile(0.25),\n",
    "                \"75th_percentile\": df[col].quantile(0.75),\n",
    "                \"median\": df[col].median(),\n",
    "                \"zero_count\": df[col].filter(df[col] == 0).shape[0],\n",
    "                \"non_null_count\": df[col].filter(df[col].is_not_null()).shape[0],\n",
    "            })\n",
    "\n",
    "        if  df[col].dtype == pl.Date or df[col].dtype == pl.Datetime:\n",
    "            most_common_date = (\n",
    "                df[col].filter(~df[col].is_null()).mode().to_list()[0]\n",
    "                if len(df[col].filter(~df[col].is_null()).mode()) > 0\n",
    "                else None\n",
    "            )\n",
    "            if most_common_date:\n",
    "                most_common_value_count = (\n",
    "                    df[col].filter(df[col] == most_common_date).shape[0]\n",
    "                )\n",
    "            else:\n",
    "                most_common_value_count = df[col].filter(df[col].is_null()).shape[0]\n",
    "            col_data.update({\n",
    "                \"most_common_non_null_date\": most_common_date,\n",
    "                \"count_of_most_common_date\": most_common_value_count,\n",
    "                \"unique_dates\": df[col].n_unique(),\n",
    "            })\n",
    "\n",
    "        if df[col].dtype == \"String\" or df[col].dtype == pl.Utf8 :  # Checks for categorical/string types\n",
    "            most_common_value = (\n",
    "                df[col].filter(~df[col].is_null()).mode().to_list()[0]\n",
    "                if len(df[col].filter(~df[col].is_null()).mode()) > 0\n",
    "                else None\n",
    "            )\n",
    "            most_common_value_count = df[col].filter(df[col] == most_common_value).shape[0]\n",
    "\n",
    "            col_data.update({\n",
    "                \"most_common_non_null_value\": most_common_value,\n",
    "                \"count_of_most_common_value\": most_common_value_count,\n",
    "                \"unique_values\": df[col].n_unique(),\n",
    "            })\n",
    "\n",
    "        if df[col].dtype == pl.Boolean:\n",
    "            col_data.update({\n",
    "                \"true_count\": df[col].filter(df[col] == True).shape[0],\n",
    "                \"false_count\": df[col].filter(df[col] == False).shape[0],\n",
    "                \"missing_count\": df[col].filter(df[col].is_null()).shape[0],\n",
    "            })\n",
    "\n",
    "        results.append(col_data)\n",
    "    eda_df = pl.DataFrame(results)\n",
    "\n",
    "    return eda_df"
   ]
  },
  {
   "cell_type": "code",
   "execution_count": null,
   "metadata": {},
   "outputs": [],
   "source": [
    "stock_unit_df[\"dsu_model_year\"]"
   ]
  },
  {
   "cell_type": "code",
   "execution_count": null,
   "metadata": {},
   "outputs": [],
   "source": [
    "eda_results = eda_polars(stock_unit_df)\n",
    "eda_results"
   ]
  },
  {
   "cell_type": "code",
   "execution_count": null,
   "metadata": {},
   "outputs": [],
   "source": [
    "stock_unit_df[\"dsu_serial_number\"].value_counts().filter(pl.col(\"count\") > 5).sum()[\"count\"][0] / stock_unit_df.shape[0]"
   ]
  },
  {
   "cell_type": "code",
   "execution_count": null,
   "metadata": {},
   "outputs": [],
   "source": [
    "stock_unit_df[\"dsu_serial_number\"].value_counts().filter(pl.col(\"count\") > 5)"
   ]
  },
  {
   "cell_type": "code",
   "execution_count": null,
   "metadata": {},
   "outputs": [],
   "source": [
    "stock_unit_df.filter(pl.col(\"dsu_sale_price\") < 1)[\"dsu_model\"].value_counts().sort(by=\"count\", descending=True).head(20)"
   ]
  },
  {
   "cell_type": "code",
   "execution_count": null,
   "metadata": {},
   "outputs": [],
   "source": [
    "stock_unit_df[\"dsu_make\"].value_counts().sort(\n",
    "    by=\"count\", descending=True\n",
    ").head(5)"
   ]
  },
  {
   "cell_type": "code",
   "execution_count": null,
   "metadata": {},
   "outputs": [],
   "source": [
    "stock_unit_df[\"dsu_serial_number\"].value_counts().sort(by=\"count\", descending=True).head(5)"
   ]
  },
  {
   "cell_type": "code",
   "execution_count": null,
   "metadata": {},
   "outputs": [],
   "source": [
    "stock_unit_df.filter(pl.col(\"dsu_sale_price\") < 1)"
   ]
  },
  {
   "cell_type": "code",
   "execution_count": null,
   "metadata": {},
   "outputs": [],
   "source": [
    "stock_unit_df.filter(pl.col(\"dsu_sale_price\") < 1).filter(pl.col(\"dsu_group\").is_in([\"4WD TRACTOR\", \"ROW CROP TRACTOR\"]))"
   ]
  },
  {
   "cell_type": "code",
   "execution_count": null,
   "metadata": {},
   "outputs": [],
   "source": [
    "stock_unit_df.filter(pl.col(\"dsu_sale_price\") < 1).filter(pl.col(\"dsu_group\").is_in([\"4WD TRACTOR\", \"ROW CROP TRACTOR\"])).shape[0] / stock_unit_df.filter(pl.col(\"dsu_group\").is_in([\"4WD TRACTOR\", \"ROW CROP TRACTOR\"])).shape[0]"
   ]
  },
  {
   "cell_type": "code",
   "execution_count": null,
   "metadata": {},
   "outputs": [],
   "source": [
    "sns.histplot(\n",
    "    x=\"dsu_sales_date\",\n",
    "    data=stock_unit_df.filter(pl.col(\"dsu_sale_price\") < 1)\n",
    "    .filter(pl.col(\"dsu_group\").is_in([\"4WD TRACTOR\", \"ROW CROP TRACTOR\"]))\n",
    "    .to_pandas(),\n",
    ")"
   ]
  },
  {
   "cell_type": "code",
   "execution_count": null,
   "metadata": {},
   "outputs": [],
   "source": [
    "stock_unit_df.filter(pl.col(\"dsu_hours_or_units\") < 1).filter(\n",
    "    pl.col(\"dsu_group\").is_in([\"4WD TRACTOR\", \"ROW CROP TRACTOR\"]),\n",
    ").shape[0] / stock_unit_df.filter(\n",
    "    pl.col(\"dsu_group\").is_in([\"4WD TRACTOR\", \"ROW CROP TRACTOR\"]),\n",
    ").shape[\n",
    "    0\n",
    "]"
   ]
  },
  {
   "cell_type": "code",
   "execution_count": null,
   "metadata": {},
   "outputs": [],
   "source": [
    "stock_unit_df.filter(pl.col(\"dsu_hours_or_units\") < 1).filter(\n",
    "    pl.col(\"dsu_group\").is_in([\"4WD TRACTOR\", \"ROW CROP TRACTOR\"]),\n",
    ")[\"dsu_new_used\"].value_counts()"
   ]
  },
  {
   "cell_type": "code",
   "execution_count": null,
   "metadata": {},
   "outputs": [],
   "source": [
    "stock_unit_df.filter(pl.col(\"dsu_invoice_number\") == \"NOTAVA\")[\"dsu_sales_date\"].value_counts().sort(by=\"count\", descending=True)"
   ]
  },
  {
   "cell_type": "code",
   "execution_count": null,
   "metadata": {},
   "outputs": [],
   "source": [
    "stock_unit_df.filter(pl.col(\"dsu_invoice_number\") == \"EQPADD\")[\n",
    "    \"dsu_sale_price\"\n",
    "].value_counts().sort(by=\"count\", descending=True)"
   ]
  },
  {
   "cell_type": "code",
   "execution_count": null,
   "metadata": {},
   "outputs": [],
   "source": [
    "stock_unit_df.filter(pl.col(\"dsu_invoice_number\") == \"EQPADD\")[\"dsu_sale_price\"].describe()"
   ]
  },
  {
   "cell_type": "code",
   "execution_count": null,
   "metadata": {},
   "outputs": [],
   "source": [
    "stock_unit_df.filter(pl.col(\"dsu_invoice_number\") == \"NOTAVA\")[\n",
    "    \"dsu_sales_date\"\n",
    "].count()"
   ]
  },
  {
   "cell_type": "code",
   "execution_count": null,
   "metadata": {},
   "outputs": [],
   "source": [
    "stock_unit_df.filter(pl.col(\"dsu_invoice_number\") == \"NOTAVA\").filter(\n",
    "    pl.col(\"dsu_sale_price\") < 1,\n",
    ")"
   ]
  },
  {
   "cell_type": "code",
   "execution_count": null,
   "metadata": {},
   "outputs": [],
   "source": [
    "stock_unit_df.filter(pl.col(\"dsu_sales_date\") >= pd.to_datetime(\"2014-01-01\"))"
   ]
  },
  {
   "cell_type": "code",
   "execution_count": null,
   "metadata": {},
   "outputs": [],
   "source": [
    "stock_unit_df.filter(pl.col(\"dsu_sales_date\") >= pd.to_datetime(\"2014-01-01\")).filter(\n",
    "    pl.col(\"dsu_sale_price\") < 1,\n",
    ").filter(pl.col(\"dsu_group\").is_in([\"4WD TRACTOR\", \"ROW CROP TRACTOR\"])).shape[\n",
    "    0\n",
    "] / stock_unit_df.filter(\n",
    "    pl.col(\"dsu_sales_date\") >= pd.to_datetime(\"2014-01-01\"),\n",
    ").filter(\n",
    "    pl.col(\"dsu_group\").is_in([\"4WD TRACTOR\", \"ROW CROP TRACTOR\"]),\n",
    ").shape[\n",
    "    0\n",
    "]"
   ]
  },
  {
   "cell_type": "code",
   "execution_count": null,
   "metadata": {},
   "outputs": [],
   "source": [
    "len(\n",
    "    stock_unit_df.filter(pl.col(\"dsu_sales_date\") >= pd.to_datetime(\"2014-01-01\"))\n",
    "    .filter(pl.col(\"dsu_sale_price\") < 1)\n",
    "    .filter(pl.col(\"dsu_group\").is_in([\"4WD TRACTOR\", \"ROW CROP TRACTOR\"])),\n",
    ")"
   ]
  },
  {
   "cell_type": "code",
   "execution_count": null,
   "metadata": {},
   "outputs": [],
   "source": [
    "stock_unit_df.filter(pl.col(\"dsu_sales_date\") >= pd.to_datetime(\"2014-01-01\")).filter(pl.col(\"dsu_sale_price\") < 1).filter(pl.col(\"dsu_group\").is_in([\"4WD TRACTOR\", \"ROW CROP TRACTOR\"]))[\"dsu_account_id\"].n_unique()"
   ]
  },
  {
   "cell_type": "code",
   "execution_count": 247,
   "metadata": {},
   "outputs": [],
   "source": [
    "account_df = translate_csv_to_common_model(\n",
    "    \"data/dealers/koenig/account.csv\",\n",
    "    \"koenig\",\n",
    "    \"./src/transformation/semantic_layer.json\",\n",
    "    \"account\",\n",
    ")\n",
    "customer_equipment_df = translate_csv_to_common_model(\n",
    "    \"data/dealers/koenig/customer-equipment.csv\",\n",
    "    \"koenig\",\n",
    "    \"./src/transformation/semantic_layer.json\",\n",
    "    \"customer_equipment\",\n",
    ")\n",
    "stock_unit_df = translate_csv_to_common_model(\n",
    "    \"data/dealers/koenig/dealer-stock-unit.csv\",\n",
    "    \"koenig\",\n",
    "    \"./src/transformation/semantic_layer.json\",\n",
    "    \"dealer_stock_unit\",\n",
    ")\n",
    "purchase_orders_df = translate_csv_to_common_model(\n",
    "    \"data/dealers/koenig/purchase-order.csv\",\n",
    "    \"koenig\",\n",
    "    \"./src/transformation/semantic_layer.json\",\n",
    "    \"purchase_order\",\n",
    ")\n",
    "service_requests_df = translate_csv_to_common_model(\n",
    "    \"data/dealers/koenig/service-requests.csv\",\n",
    "    \"koenig\",\n",
    "    \"./src/transformation/semantic_layer.json\",\n",
    "    \"service_requests\",\n",
    ")\n",
    "user_df = translate_csv_to_common_model(\n",
    "    \"data/dealers/koenig/user.csv\",\n",
    "    \"koenig\",\n",
    "    \"./src/transformation/semantic_layer.json\",\n",
    "    \"user\",\n",
    ")\n",
    "store_df = translate_csv_to_common_model(\n",
    "    \"data/dealers/koenig/store.csv\",\n",
    "    \"koenig\",\n",
    "    \"./src/transformation/semantic_layer.json\",\n",
    "    \"store\",\n",
    ")\n",
    "account_df = translate_koenig_account_columns(account_df)\n",
    "customer_equipment_df = translate_keonig_customer_equipment(customer_equipment_df)\n",
    "stock_unit_df = translate_koenig_stock_unit(stock_unit_df)\n",
    "purchase_orders_df = translate_koenig_purchase_orders(purchase_orders_df)\n",
    "service_requests_df = translate_koenig_service_requests(service_requests_df)\n",
    "user_df = translate_koenig_user(user_df)\n",
    "store_df = translate_koenig_store(store_df)"
   ]
  },
  {
   "cell_type": "code",
   "execution_count": 248,
   "metadata": {},
   "outputs": [],
   "source": [
    "eda_results = eda_polars(stock_unit_df)\n",
    "eda_results.to_pandas().to_csv(\"data/dealers/koenig/eda/stock_unit_eda.csv\", index=False)\n",
    "eda_results = eda_polars(account_df)\n",
    "eda_results.to_pandas().to_csv(\"data/dealers/koenig/eda/account_eda.csv\", index=False)\n",
    "eda_results = eda_polars(customer_equipment_df)\n",
    "eda_results.to_pandas().to_csv(\n",
    "    \"data/dealers/koenig/eda/customer_equipment_eda.csv\", index=False,\n",
    ")\n",
    "eda_results = eda_polars(purchase_orders_df)\n",
    "eda_results.to_pandas().to_csv(\n",
    "    \"data/dealers/koenig/eda/purchase_orders_eda.csv\", index=False,\n",
    ")\n",
    "eda_results = eda_polars(service_requests_df)\n",
    "eda_results.to_pandas().to_csv(\n",
    "    \"data/dealers/koenig/eda/service_requests_eda.csv\", index=False,\n",
    ")\n",
    "eda_results = eda_polars(user_df)\n",
    "eda_results.to_pandas().to_csv(\"data/dealers/koenig/eda/user_eda.csv\", index=False)\n",
    "eda_results = eda_polars(store_df)\n",
    "eda_results.to_pandas().to_csv(\"data/dealers/koenig/eda/store_eda.csv\", index=False)"
   ]
  },
  {
   "cell_type": "code",
   "execution_count": null,
   "metadata": {},
   "outputs": [],
   "source": [
    "user_df.dtypes"
   ]
  }
 ],
 "metadata": {
  "kernelspec": {
   "display_name": "lead-gen",
   "language": "python",
   "name": "python3"
  },
  "language_info": {
   "codemirror_mode": {
    "name": "ipython",
    "version": 3
   },
   "file_extension": ".py",
   "mimetype": "text/x-python",
   "name": "python",
   "nbconvert_exporter": "python",
   "pygments_lexer": "ipython3",
   "version": "3.12.2"
  }
 },
 "nbformat": 4,
 "nbformat_minor": 2
}
