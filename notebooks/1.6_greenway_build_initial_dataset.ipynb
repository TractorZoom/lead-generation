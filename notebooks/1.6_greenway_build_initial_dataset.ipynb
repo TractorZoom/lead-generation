{
 "cells": [
  {
   "cell_type": "markdown",
   "metadata": {},
   "source": [
    "# Create Initial Dataset from Greenway Data\n",
    "\n",
    "The goal here is to try and build the first dataset that ties together Accounts, Dealer Stock Units, Customer Equipment, Stores, and Users. This will be a dataset that will allow us to identify customer buying cycles"
   ]
  },
  {
   "cell_type": "code",
   "execution_count": 1,
   "metadata": {},
   "outputs": [],
   "source": [
    "%load_ext dotenv\n",
    "%dotenv\n",
    "%load_ext autoreload\n",
    "%autoreload 2"
   ]
  },
  {
   "cell_type": "code",
   "execution_count": 2,
   "metadata": {},
   "outputs": [],
   "source": [
    "import json\n",
    "\n",
    "import polars as pl\n",
    "import pandas as pd\n",
    "import seaborn as sns\n",
    "import matplotlib.pyplot as plt\n",
    "\n",
    "from src.transformation.translate import (\n",
    "    translate_csv_to_common_model,\n",
    ")"
   ]
  },
  {
   "cell_type": "markdown",
   "metadata": {},
   "source": [
    "## Pull in Data and Translate"
   ]
  },
  {
   "cell_type": "code",
   "execution_count": 46,
   "metadata": {},
   "outputs": [],
   "source": [
    "account_df = translate_csv_to_common_model(\n",
    "    \"data/dealers/greenway/account.csv\",\n",
    "    \"greenway\",\n",
    "    \"./src/transformation/semantic_layer.json\",\n",
    "    \"account\",\n",
    ")\n",
    "customer_equipment_df = translate_csv_to_common_model(\n",
    "    \"data/dealers/greenway/customer-equipment.csv\",\n",
    "    \"greenway\",\n",
    "    \"./src/transformation/semantic_layer.json\",\n",
    "    \"customer_equipment\",\n",
    ")\n",
    "stock_unit_df = translate_csv_to_common_model(\n",
    "    \"data/dealers/greenway/dealer-stock-unit.csv\",\n",
    "    \"greenway\",\n",
    "    \"./src/transformation/semantic_layer.json\",\n",
    "    \"dealer_stock_unit\",\n",
    ")\n",
    "purchase_orders_df = translate_csv_to_common_model(\n",
    "    \"data/dealers/greenway/purchase-order.csv\",\n",
    "    \"greenway\",\n",
    "    \"./src/transformation/semantic_layer.json\",\n",
    "    \"purchase_order\",\n",
    ")\n",
    "service_requests_df = translate_csv_to_common_model(\n",
    "    \"data/dealers/greenway/service-requests.csv\",\n",
    "    \"greenway\",\n",
    "    \"./src/transformation/semantic_layer.json\",\n",
    "    \"service_requests\",\n",
    ")\n",
    "user_df = translate_csv_to_common_model(\n",
    "    \"data/dealers/greenway/user.csv\",\n",
    "    \"greenway\",\n",
    "    \"./src/transformation/semantic_layer.json\",\n",
    "    \"user\",\n",
    ")\n",
    "store_df = translate_csv_to_common_model(\n",
    "    \"data/dealers/greenway/store.csv\",\n",
    "    \"greenway\",\n",
    "    \"./src/transformation/semantic_layer.json\",\n",
    "    \"store\",\n",
    ")"
   ]
  },
  {
   "cell_type": "code",
   "execution_count": null,
   "metadata": {},
   "outputs": [],
   "source": [
    "account_df.head()"
   ]
  },
  {
   "cell_type": "code",
   "execution_count": null,
   "metadata": {},
   "outputs": [],
   "source": [
    "account_df[\"customer_business_class\"].value_counts()"
   ]
  },
  {
   "cell_type": "code",
   "execution_count": null,
   "metadata": {},
   "outputs": [],
   "source": [
    "customer_equipment_df.head()"
   ]
  },
  {
   "cell_type": "code",
   "execution_count": null,
   "metadata": {},
   "outputs": [],
   "source": [
    "customer_equipment_df.filter(pl.col(\"ce_category\") == \"ALLD\").tail()"
   ]
  },
  {
   "cell_type": "code",
   "execution_count": null,
   "metadata": {},
   "outputs": [],
   "source": [
    "from src.transformation.category import CleanMakeModelData"
   ]
  },
  {
   "cell_type": "code",
   "execution_count": null,
   "metadata": {},
   "outputs": [],
   "source": [
    "clean_make_model = CleanMakeModelData()"
   ]
  },
  {
   "cell_type": "code",
   "execution_count": null,
   "metadata": {},
   "outputs": [],
   "source": [
    "clean_make_model.make_model_data"
   ]
  },
  {
   "cell_type": "code",
   "execution_count": 16,
   "metadata": {},
   "outputs": [],
   "source": [
    "clean_make_model.create_aggregated_data(stock_unit_df)"
   ]
  },
  {
   "cell_type": "code",
   "execution_count": null,
   "metadata": {},
   "outputs": [],
   "source": [
    "clean_make_model.make_model_data.filter(\n",
    "    (pl.col(\"make\").str.to_lowercase() == \"JOHN DEERE\".lower())\n",
    "    & (pl.col(\"model\").str.to_lowercase() == \"3400\".lower()),\n",
    ").shape[0]"
   ]
  },
  {
   "cell_type": "code",
   "execution_count": null,
   "metadata": {},
   "outputs": [],
   "source": [
    "stock_unit_df"
   ]
  },
  {
   "cell_type": "code",
   "execution_count": null,
   "metadata": {},
   "outputs": [],
   "source": [
    "stock_unit_df.filter(\n",
    "    (pl.col(\"dsu_make\").str.to_lowercase() == \"JOHN DEERE\".lower())\n",
    "    & (pl.col(\"dsu_model\").str.to_lowercase() == \"8270R\".lower())\n",
    ").drop_nulls(\"dsu_group\")\n",
    "# .group_by(group_col)\n",
    "# .agg(pl.count(group_col).alias(\"count\"))\n",
    "# .sort(\"count\", descending=True)\n",
    "# .to_numpy()"
   ]
  },
  {
   "cell_type": "code",
   "execution_count": null,
   "metadata": {},
   "outputs": [],
   "source": [
    "clean_make_model.aggregated_data.head()"
   ]
  },
  {
   "cell_type": "code",
   "execution_count": null,
   "metadata": {},
   "outputs": [],
   "source": [
    "len(clean_make_model.aggregated_data)"
   ]
  },
  {
   "cell_type": "code",
   "execution_count": null,
   "metadata": {},
   "outputs": [],
   "source": [
    "clean_make_model.aggregated_data.filter(pl.col(\"group\") != \"\")"
   ]
  },
  {
   "cell_type": "code",
   "execution_count": null,
   "metadata": {},
   "outputs": [],
   "source": [
    "clean_make_model.clean_make_model_data(\"FAIR OAKS\", \"10\")"
   ]
  },
  {
   "cell_type": "code",
   "execution_count": null,
   "metadata": {},
   "outputs": [],
   "source": [
    "matched_cats = 0\n",
    "matched_subcats = 0\n",
    "idx = 1\n",
    "for row in stock_unit_df.iter_rows(named=True):\n",
    "    make = row[\"dsu_make\"].lower() if row[\"dsu_make\"] else \"\"\n",
    "    model = row[\"dsu_model\"].lower() if row[\"dsu_model\"] else \"\"\n",
    "    group = row[\"dsu_group\"].lower() if row[\"dsu_group\"] else \"\"\n",
    "    if make and model:\n",
    "        result = clean_make_model.clean_make_model_data(make, model, group=group)\n",
    "    if result[\"category\"] != \"Unknown\":\n",
    "        matched_cats += 1\n",
    "    if result[\"subcategory\"] != \"Unknown\":\n",
    "        matched_subcats += 1\n",
    "\n",
    "    if idx % 1000 == 0:\n",
    "        print(f\"Matched Cats: {matched_cats}, Matched Subcats: {matched_subcats}\")\n",
    "        print(f\"Total of {idx} rows processed\")\n",
    "\n",
    "    idx += 1"
   ]
  }
 ],
 "metadata": {
  "kernelspec": {
   "display_name": "lead-gen",
   "language": "python",
   "name": "python3"
  },
  "language_info": {
   "codemirror_mode": {
    "name": "ipython",
    "version": 3
   },
   "file_extension": ".py",
   "mimetype": "text/x-python",
   "name": "python",
   "nbconvert_exporter": "python",
   "pygments_lexer": "ipython3",
   "version": "3.12.2"
  }
 },
 "nbformat": 4,
 "nbformat_minor": 2
}
